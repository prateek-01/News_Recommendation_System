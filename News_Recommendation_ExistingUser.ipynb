{
  "nbformat": 4,
  "nbformat_minor": 0,
  "metadata": {
    "colab": {
      "name": "News_Recommendation-ExistingUser.ipynb",
      "version": "0.3.2",
      "provenance": [],
      "collapsed_sections": []
    },
    "kernelspec": {
      "name": "python3",
      "display_name": "Python 3"
    },
    "accelerator": "GPU"
  },
  "cells": [
    {
      "cell_type": "markdown",
      "metadata": {
        "id": "view-in-github",
        "colab_type": "text"
      },
      "source": [
        "[View in Colaboratory](https://colab.research.google.com/github/prateek-01/News_Recommendation_System/blob/master/News_Recommendation_ExistingUser.ipynb)"
      ]
    },
    {
      "metadata": {
        "id": "LQSPg-5sPyDE",
        "colab_type": "text"
      },
      "cell_type": "markdown",
      "source": [
        "# News Recommendation System Based on Implicit Click Stream Data and Hybrid Filtering Approach\n",
        "\n",
        "\n",
        "\n"
      ]
    },
    {
      "metadata": {
        "id": "MrzIt9YBPzbz",
        "colab_type": "code",
        "colab": {}
      },
      "cell_type": "code",
      "source": [
        "!pip install gensim"
      ],
      "execution_count": 0,
      "outputs": []
    },
    {
      "metadata": {
        "id": "WlDEQ28PiiEj",
        "colab_type": "code",
        "colab": {}
      },
      "cell_type": "code",
      "source": [
        "import gensim\n",
        "import nltk\n",
        "from gensim.models import Doc2Vec\n",
        "from multiprocessing import cpu_count\n",
        "import pandas as pd\n",
        "import numpy as np\n",
        "import random\n",
        "from matplotlib import pyplot as plt"
      ],
      "execution_count": 0,
      "outputs": []
    },
    {
      "metadata": {
        "id": "cHZHAgHriiSd",
        "colab_type": "code",
        "colab": {
          "resources": {
            "http://localhost:8080/nbextensions/google.colab/files.js": {
              "data": "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",
              "ok": true,
              "headers": [
                [
                  "content-type",
                  "application/javascript"
                ]
              ],
              "status": 200,
              "status_text": ""
            }
          },
          "base_uri": "https://localhost:8080/",
          "height": 90
        },
        "outputId": "7d9adbc5-678d-4794-94df-62e16e47349e"
      },
      "cell_type": "code",
      "source": [
        "# Uploading files to google collaboratory cloud (Please choose the file on your local system after running this cell)\n",
        "\n",
        "from google.colab import files\n",
        "\n",
        "uploaded = files.upload()\n",
        "\n",
        "for fn in uploaded.keys():\n",
        "  print('User uploaded file \"{name}\" with length {length} bytes'.format(\n",
        "      name=fn, length=len(uploaded[fn])))"
      ],
      "execution_count": 5,
      "outputs": [
        {
          "output_type": "display_data",
          "data": {
            "text/html": [
              "\n",
              "     <input type=\"file\" id=\"files-ef8f5c8d-73d1-47c1-9139-4384b14c42d1\" name=\"files[]\" multiple disabled />\n",
              "     <output id=\"result-ef8f5c8d-73d1-47c1-9139-4384b14c42d1\">\n",
              "      Upload widget is only available when the cell has been executed in the\n",
              "      current browser session. Please rerun this cell to enable.\n",
              "      </output>\n",
              "      <script src=\"/nbextensions/google.colab/files.js\"></script> "
            ],
            "text/plain": [
              "<IPython.core.display.HTML object>"
            ]
          },
          "metadata": {
            "tags": []
          }
        },
        {
          "output_type": "stream",
          "text": [
            "Saving news_articles.csv to news_articles.csv\n",
            "User uploaded file \"news_articles.csv\" with length 8590199 bytes\n"
          ],
          "name": "stdout"
        }
      ]
    },
    {
      "metadata": {
        "id": "r-ET8Dv9ncUs",
        "colab_type": "code",
        "colab": {}
      },
      "cell_type": "code",
      "source": [
        "import io\n",
        "data = io.BytesIO(uploaded['news_articles.csv'])"
      ],
      "execution_count": 0,
      "outputs": []
    },
    {
      "metadata": {
        "id": "8oml8tzdiiVZ",
        "colab_type": "code",
        "colab": {}
      },
      "cell_type": "code",
      "source": [
        "import pandas as pd\n",
        "news_data = pd.read_csv(data)"
      ],
      "execution_count": 0,
      "outputs": []
    },
    {
      "metadata": {
        "id": "Wpn-wvybiiX1",
        "colab_type": "code",
        "colab": {
          "base_uri": "https://localhost:8080/",
          "height": 289
        },
        "outputId": "9f9a7241-61f6-4dde-af3e-88bf474098db"
      },
      "cell_type": "code",
      "source": [
        "news_data.head(5)"
      ],
      "execution_count": 8,
      "outputs": [
        {
          "output_type": "execute_result",
          "data": {
            "text/html": [
              "<div>\n",
              "<style scoped>\n",
              "    .dataframe tbody tr th:only-of-type {\n",
              "        vertical-align: middle;\n",
              "    }\n",
              "\n",
              "    .dataframe tbody tr th {\n",
              "        vertical-align: top;\n",
              "    }\n",
              "\n",
              "    .dataframe thead th {\n",
              "        text-align: right;\n",
              "    }\n",
              "</style>\n",
              "<table border=\"1\" class=\"dataframe\">\n",
              "  <thead>\n",
              "    <tr style=\"text-align: right;\">\n",
              "      <th></th>\n",
              "      <th>Article_Id</th>\n",
              "      <th>Title</th>\n",
              "      <th>Author</th>\n",
              "      <th>Date</th>\n",
              "      <th>Content</th>\n",
              "      <th>URL</th>\n",
              "    </tr>\n",
              "  </thead>\n",
              "  <tbody>\n",
              "    <tr>\n",
              "      <th>0</th>\n",
              "      <td>0</td>\n",
              "      <td>14 dead after bus falls into canal in Telangan...</td>\n",
              "      <td>Devyani Sultania</td>\n",
              "      <td>August 22, 2016 12:34 IST</td>\n",
              "      <td>At least 14 people died and 17 others were inj...</td>\n",
              "      <td>http://www.ibtimes.co.in/14-dead-after-bus-fal...</td>\n",
              "    </tr>\n",
              "    <tr>\n",
              "      <th>1</th>\n",
              "      <td>1</td>\n",
              "      <td>Pratibha Tiwari molested on busy road   Saath ...</td>\n",
              "      <td>Suparno Sarkar</td>\n",
              "      <td>August 22, 2016 19:47 IST</td>\n",
              "      <td>TV actress Pratibha Tiwari  who is best known ...</td>\n",
              "      <td>NaN</td>\n",
              "    </tr>\n",
              "    <tr>\n",
              "      <th>2</th>\n",
              "      <td>2</td>\n",
              "      <td>US  South Korea begin joint military drill ami...</td>\n",
              "      <td>Namrata Tripathi</td>\n",
              "      <td>August 22, 2016 18:10 IST</td>\n",
              "      <td>The United States and South Korea began a join...</td>\n",
              "      <td>http://www.ibtimes.co.in/us-south-korea-begin-...</td>\n",
              "    </tr>\n",
              "    <tr>\n",
              "      <th>3</th>\n",
              "      <td>3</td>\n",
              "      <td>Illegal construction in Bengaluru  Will my hou...</td>\n",
              "      <td>S V Krishnamachari</td>\n",
              "      <td>August 22, 2016 17:39 IST</td>\n",
              "      <td>The relentless drive by Bengaluru s  Bangalore...</td>\n",
              "      <td>http://www.ibtimes.co.in/illegal-construction-...</td>\n",
              "    </tr>\n",
              "    <tr>\n",
              "      <th>4</th>\n",
              "      <td>4</td>\n",
              "      <td>Punjab Gau Rakshak Dal chief held for assaulti...</td>\n",
              "      <td>Pranshu Rathee</td>\n",
              "      <td>August 22, 2016 17:34 IST</td>\n",
              "      <td>Punjab Gau Raksha Dal chief Satish Kumar and h...</td>\n",
              "      <td>http://www.ibtimes.co.in/punjab-gau-rakshak-da...</td>\n",
              "    </tr>\n",
              "  </tbody>\n",
              "</table>\n",
              "</div>"
            ],
            "text/plain": [
              "   Article_Id                                              Title  \\\n",
              "0           0  14 dead after bus falls into canal in Telangan...   \n",
              "1           1  Pratibha Tiwari molested on busy road   Saath ...   \n",
              "2           2  US  South Korea begin joint military drill ami...   \n",
              "3           3  Illegal construction in Bengaluru  Will my hou...   \n",
              "4           4  Punjab Gau Rakshak Dal chief held for assaulti...   \n",
              "\n",
              "               Author                       Date  \\\n",
              "0    Devyani Sultania  August 22, 2016 12:34 IST   \n",
              "1      Suparno Sarkar  August 22, 2016 19:47 IST   \n",
              "2    Namrata Tripathi  August 22, 2016 18:10 IST   \n",
              "3  S V Krishnamachari  August 22, 2016 17:39 IST   \n",
              "4      Pranshu Rathee  August 22, 2016 17:34 IST   \n",
              "\n",
              "                                             Content  \\\n",
              "0  At least 14 people died and 17 others were inj...   \n",
              "1  TV actress Pratibha Tiwari  who is best known ...   \n",
              "2  The United States and South Korea began a join...   \n",
              "3  The relentless drive by Bengaluru s  Bangalore...   \n",
              "4  Punjab Gau Raksha Dal chief Satish Kumar and h...   \n",
              "\n",
              "                                                 URL  \n",
              "0  http://www.ibtimes.co.in/14-dead-after-bus-fal...  \n",
              "1                                                NaN  \n",
              "2  http://www.ibtimes.co.in/us-south-korea-begin-...  \n",
              "3  http://www.ibtimes.co.in/illegal-construction-...  \n",
              "4  http://www.ibtimes.co.in/punjab-gau-rakshak-da...  "
            ]
          },
          "metadata": {
            "tags": []
          },
          "execution_count": 8
        }
      ]
    },
    {
      "metadata": {
        "id": "xoD2nrV8FNnz",
        "colab_type": "code",
        "colab": {
          "base_uri": "https://localhost:8080/",
          "height": 34
        },
        "outputId": "08eae491-f3f7-4dff-a9c1-f3bac69a746e"
      },
      "cell_type": "code",
      "source": [
        "news_length = news_data['Content'].apply(lambda x : x.split(\" \"))\n",
        "news_length = [len(i) for i in news_length]\n",
        "news_length[:5],min(news_length) , max(news_length)"
      ],
      "execution_count": 9,
      "outputs": [
        {
          "output_type": "execute_result",
          "data": {
            "text/plain": [
              "([233, 231, 247, 355, 272], 3, 2375)"
            ]
          },
          "metadata": {
            "tags": []
          },
          "execution_count": 9
        }
      ]
    },
    {
      "metadata": {
        "id": "MewVD1IlH5bt",
        "colab_type": "code",
        "colab": {
          "base_uri": "https://localhost:8080/",
          "height": 34
        },
        "outputId": "178212d6-3a85-4cee-f7d3-daa595aa0e3e"
      },
      "cell_type": "code",
      "source": [
        "greater = [i for i in news_length if i>1200]\n",
        "len(greater)"
      ],
      "execution_count": 10,
      "outputs": [
        {
          "output_type": "execute_result",
          "data": {
            "text/plain": [
              "16"
            ]
          },
          "metadata": {
            "tags": []
          },
          "execution_count": 10
        }
      ]
    },
    {
      "metadata": {
        "id": "EJ6v5AKQFN8r",
        "colab_type": "code",
        "colab": {
          "base_uri": "https://localhost:8080/",
          "height": 376
        },
        "outputId": "f8b53791-48b1-4f31-8a4a-d244e91ea06d"
      },
      "cell_type": "code",
      "source": [
        "# Plotting word count\n",
        "\n",
        "data = news_length\n",
        "\n",
        "# fixed bin size\n",
        "bins = np.arange(0, 1200, 10) # fixed bin size\n",
        "\n",
        "plt.xlim([min(data)-5, 1200])\n",
        "\n",
        "plt.hist(data, bins=bins, alpha=0.5)\n",
        "plt.title(\"Distribution of word count of news articles\")\n",
        "plt.xlabel('Word Count (bin size = 5)')\n",
        "plt.ylabel('count')\n",
        "\n",
        "plt.show()"
      ],
      "execution_count": 11,
      "outputs": [
        {
          "output_type": "display_data",
          "data": {
            "image/png": "[encoded data removed]",
            "text/plain": [
              "<matplotlib.figure.Figure at 0x7fc64c8b6ba8>"
            ]
          },
          "metadata": {
            "tags": []
          }
        }
      ]
    },
    {
      "metadata": {
        "id": "Q_mn-eO3FOEb",
        "colab_type": "code",
        "colab": {
          "base_uri": "https://localhost:8080/",
          "height": 376
        },
        "outputId": "e471c054-05cc-40bb-8d78-a3e107115dea"
      },
      "cell_type": "code",
      "source": [
        "#Considering average reading speed of 125 words per minute\n",
        "\n",
        "time_spent = [float((i/125)*60) for i in news_length]   #Aprrox Time that should be spent on each article to read it completely\n",
        "\n",
        "bins = np.arange(0, 800, 5) # fixed bin size\n",
        "\n",
        "plt.xlim([min(time_spent)-5, 1000])\n",
        "\n",
        "plt.hist(time_spent, bins=bins, alpha=0.5)\n",
        "plt.title(\"Distribution of average time that should be spent on news articles to read it completely\")\n",
        "plt.xlabel('Time Spent (in seconds) (bin size = 5)')\n",
        "plt.ylabel('count')\n",
        "\n",
        "plt.show()"
      ],
      "execution_count": 12,
      "outputs": [
        {
          "output_type": "display_data",
          "data": {
            "image/png": "[encoded data removed]",
            "text/plain": [
              "<matplotlib.figure.Figure at 0x7fc64c5ca978>"
            ]
          },
          "metadata": {
            "tags": []
          }
        }
      ]
    },
    {
      "metadata": {
        "id": "gCqyaHCDFONc",
        "colab_type": "code",
        "colab": {
          "base_uri": "https://localhost:8080/",
          "height": 34
        },
        "outputId": "df6bc11e-aa2d-48e0-ff26-a7fb578bccaa"
      },
      "cell_type": "code",
      "source": [
        "min(time_spent) , max(time_spent)"
      ],
      "execution_count": 13,
      "outputs": [
        {
          "output_type": "execute_result",
          "data": {
            "text/plain": [
              "(1.44, 1140.0)"
            ]
          },
          "metadata": {
            "tags": []
          },
          "execution_count": 13
        }
      ]
    },
    {
      "metadata": {
        "id": "SIkkEvhISVA7",
        "colab_type": "code",
        "colab": {
          "base_uri": "https://localhost:8080/",
          "height": 34
        },
        "outputId": "18d9fd5f-ef6f-4fc0-853d-74e43d63b7da"
      },
      "cell_type": "code",
      "source": [
        "optimum_time_per_article = dict(zip(news_data['Article_Id'],time_spent))\n",
        "len(optimum_time_per_article)"
      ],
      "execution_count": 14,
      "outputs": [
        {
          "output_type": "execute_result",
          "data": {
            "text/plain": [
              "4831"
            ]
          },
          "metadata": {
            "tags": []
          },
          "execution_count": 14
        }
      ]
    },
    {
      "metadata": {
        "id": "0D9YxcTpP4qy",
        "colab_type": "text"
      },
      "cell_type": "markdown",
      "source": [
        "# Import Generated data\n",
        "\n",
        "\n",
        "##  Now we have simulate PERCENTAGE TIME SPENT(in other ipython notebook) to model 4 kind of user behaviours -'Bounce' ,'Shallow' , 'Deep' ,'Complete' \n",
        "\n",
        "\n",
        "*   We will model the above 4 behaviours using 1 Chi-Square and 3 Guassians Distributions\n",
        "  \n",
        "\n"
      ]
    },
    {
      "metadata": {
        "id": "WNVq5GtrbIAW",
        "colab_type": "code",
        "colab": {
          "resources": {
            "http://localhost:8080/nbextensions/google.colab/files.js": {
              "data": "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",
              "ok": true,
              "headers": [
                [
                  "content-type",
                  "application/javascript"
                ]
              ],
              "status": 200,
              "status_text": ""
            }
          },
          "base_uri": "https://localhost:8080/",
          "height": 73
        },
        "outputId": "5e693513-59be-4e73-de84-bd1ad4d9b529"
      },
      "cell_type": "code",
      "source": [
        "uploaded = files.upload()"
      ],
      "execution_count": 15,
      "outputs": [
        {
          "output_type": "display_data",
          "data": {
            "text/html": [
              "\n",
              "     <input type=\"file\" id=\"files-685e2e6a-a863-42e0-a092-4875886247f3\" name=\"files[]\" multiple disabled />\n",
              "     <output id=\"result-685e2e6a-a863-42e0-a092-4875886247f3\">\n",
              "      Upload widget is only available when the cell has been executed in the\n",
              "      current browser session. Please rerun this cell to enable.\n",
              "      </output>\n",
              "      <script src=\"/nbextensions/google.colab/files.js\"></script> "
            ],
            "text/plain": [
              "<IPython.core.display.HTML object>"
            ]
          },
          "metadata": {
            "tags": []
          }
        },
        {
          "output_type": "stream",
          "text": [
            "Saving Generated_Click_Stream_Data.csv to Generated_Click_Stream_Data.csv\n"
          ],
          "name": "stdout"
        }
      ]
    },
    {
      "metadata": {
        "id": "DqA6kwUObIGd",
        "colab_type": "code",
        "colab": {}
      },
      "cell_type": "code",
      "source": [
        "import io\n",
        "click_stream = io.BytesIO(uploaded['Generated_Click_Stream_Data.csv'])"
      ],
      "execution_count": 0,
      "outputs": []
    },
    {
      "metadata": {
        "id": "3L9ILZNhP3qs",
        "colab_type": "code",
        "colab": {
          "base_uri": "https://localhost:8080/",
          "height": 297
        },
        "outputId": "46c64aff-a96d-48f9-ffb9-032563ce115b"
      },
      "cell_type": "code",
      "source": [
        "click_stream_data = pd.read_csv(click_stream)\n",
        "click_stream_data.head(8)"
      ],
      "execution_count": 37,
      "outputs": [
        {
          "output_type": "execute_result",
          "data": {
            "text/html": [
              "<div>\n",
              "<style scoped>\n",
              "    .dataframe tbody tr th:only-of-type {\n",
              "        vertical-align: middle;\n",
              "    }\n",
              "\n",
              "    .dataframe tbody tr th {\n",
              "        vertical-align: top;\n",
              "    }\n",
              "\n",
              "    .dataframe thead th {\n",
              "        text-align: right;\n",
              "    }\n",
              "</style>\n",
              "<table border=\"1\" class=\"dataframe\">\n",
              "  <thead>\n",
              "    <tr style=\"text-align: right;\">\n",
              "      <th></th>\n",
              "      <th>Unnamed: 0</th>\n",
              "      <th>UserId</th>\n",
              "      <th>SessionId</th>\n",
              "      <th>ArticleId_served</th>\n",
              "      <th>Click</th>\n",
              "      <th>Percentage Time Spent</th>\n",
              "    </tr>\n",
              "  </thead>\n",
              "  <tbody>\n",
              "    <tr>\n",
              "      <th>0</th>\n",
              "      <td>0</td>\n",
              "      <td>1</td>\n",
              "      <td>1</td>\n",
              "      <td>2034</td>\n",
              "      <td>0</td>\n",
              "      <td>0</td>\n",
              "    </tr>\n",
              "    <tr>\n",
              "      <th>1</th>\n",
              "      <td>1</td>\n",
              "      <td>1</td>\n",
              "      <td>1</td>\n",
              "      <td>2091</td>\n",
              "      <td>0</td>\n",
              "      <td>0</td>\n",
              "    </tr>\n",
              "    <tr>\n",
              "      <th>2</th>\n",
              "      <td>2</td>\n",
              "      <td>1</td>\n",
              "      <td>1</td>\n",
              "      <td>3375</td>\n",
              "      <td>0</td>\n",
              "      <td>0</td>\n",
              "    </tr>\n",
              "    <tr>\n",
              "      <th>3</th>\n",
              "      <td>3</td>\n",
              "      <td>1</td>\n",
              "      <td>1</td>\n",
              "      <td>1623</td>\n",
              "      <td>1</td>\n",
              "      <td>16</td>\n",
              "    </tr>\n",
              "    <tr>\n",
              "      <th>4</th>\n",
              "      <td>4</td>\n",
              "      <td>1</td>\n",
              "      <td>1</td>\n",
              "      <td>1711</td>\n",
              "      <td>0</td>\n",
              "      <td>0</td>\n",
              "    </tr>\n",
              "    <tr>\n",
              "      <th>5</th>\n",
              "      <td>5</td>\n",
              "      <td>1</td>\n",
              "      <td>1</td>\n",
              "      <td>3178</td>\n",
              "      <td>0</td>\n",
              "      <td>0</td>\n",
              "    </tr>\n",
              "    <tr>\n",
              "      <th>6</th>\n",
              "      <td>6</td>\n",
              "      <td>1</td>\n",
              "      <td>1</td>\n",
              "      <td>3661</td>\n",
              "      <td>0</td>\n",
              "      <td>0</td>\n",
              "    </tr>\n",
              "    <tr>\n",
              "      <th>7</th>\n",
              "      <td>7</td>\n",
              "      <td>1</td>\n",
              "      <td>1</td>\n",
              "      <td>3676</td>\n",
              "      <td>0</td>\n",
              "      <td>0</td>\n",
              "    </tr>\n",
              "  </tbody>\n",
              "</table>\n",
              "</div>"
            ],
            "text/plain": [
              "   Unnamed: 0  UserId  SessionId  ArticleId_served  Click  \\\n",
              "0           0       1          1              2034      0   \n",
              "1           1       1          1              2091      0   \n",
              "2           2       1          1              3375      0   \n",
              "3           3       1          1              1623      1   \n",
              "4           4       1          1              1711      0   \n",
              "5           5       1          1              3178      0   \n",
              "6           6       1          1              3661      0   \n",
              "7           7       1          1              3676      0   \n",
              "\n",
              "   Percentage Time Spent  \n",
              "0                      0  \n",
              "1                      0  \n",
              "2                      0  \n",
              "3                     16  \n",
              "4                      0  \n",
              "5                      0  \n",
              "6                      0  \n",
              "7                      0  "
            ]
          },
          "metadata": {
            "tags": []
          },
          "execution_count": 37
        }
      ]
    },
    {
      "metadata": {
        "id": "Q27JwHbFFOVr",
        "colab_type": "code",
        "colab": {}
      },
      "cell_type": "code",
      "source": [
        "# Adding optimal_time_spent column for every corresponding Article_Id\n",
        "optimal_time =[]\n",
        "\n",
        "for i in click_stream_data['ArticleId_served'] :\n",
        "    optimal_time.append(optimum_time_per_article[i])\n",
        "\n"
      ],
      "execution_count": 0,
      "outputs": []
    },
    {
      "metadata": {
        "id": "_T18UVmyiKJv",
        "colab_type": "code",
        "colab": {
          "base_uri": "https://localhost:8080/",
          "height": 204
        },
        "outputId": "ba22308a-0e08-424c-b078-8932416091c3"
      },
      "cell_type": "code",
      "source": [
        "click_stream_data['optimal_time'] = optimal_time\n",
        "click_stream_data.head()"
      ],
      "execution_count": 38,
      "outputs": [
        {
          "output_type": "execute_result",
          "data": {
            "text/html": [
              "<div>\n",
              "<style scoped>\n",
              "    .dataframe tbody tr th:only-of-type {\n",
              "        vertical-align: middle;\n",
              "    }\n",
              "\n",
              "    .dataframe tbody tr th {\n",
              "        vertical-align: top;\n",
              "    }\n",
              "\n",
              "    .dataframe thead th {\n",
              "        text-align: right;\n",
              "    }\n",
              "</style>\n",
              "<table border=\"1\" class=\"dataframe\">\n",
              "  <thead>\n",
              "    <tr style=\"text-align: right;\">\n",
              "      <th></th>\n",
              "      <th>Unnamed: 0</th>\n",
              "      <th>UserId</th>\n",
              "      <th>SessionId</th>\n",
              "      <th>ArticleId_served</th>\n",
              "      <th>Click</th>\n",
              "      <th>Percentage Time Spent</th>\n",
              "      <th>optimal_time</th>\n",
              "    </tr>\n",
              "  </thead>\n",
              "  <tbody>\n",
              "    <tr>\n",
              "      <th>0</th>\n",
              "      <td>0</td>\n",
              "      <td>1</td>\n",
              "      <td>1</td>\n",
              "      <td>2034</td>\n",
              "      <td>0</td>\n",
              "      <td>0</td>\n",
              "      <td>35.04</td>\n",
              "    </tr>\n",
              "    <tr>\n",
              "      <th>1</th>\n",
              "      <td>1</td>\n",
              "      <td>1</td>\n",
              "      <td>1</td>\n",
              "      <td>2091</td>\n",
              "      <td>0</td>\n",
              "      <td>0</td>\n",
              "      <td>72.00</td>\n",
              "    </tr>\n",
              "    <tr>\n",
              "      <th>2</th>\n",
              "      <td>2</td>\n",
              "      <td>1</td>\n",
              "      <td>1</td>\n",
              "      <td>3375</td>\n",
              "      <td>0</td>\n",
              "      <td>0</td>\n",
              "      <td>199.20</td>\n",
              "    </tr>\n",
              "    <tr>\n",
              "      <th>3</th>\n",
              "      <td>3</td>\n",
              "      <td>1</td>\n",
              "      <td>1</td>\n",
              "      <td>1623</td>\n",
              "      <td>1</td>\n",
              "      <td>16</td>\n",
              "      <td>137.76</td>\n",
              "    </tr>\n",
              "    <tr>\n",
              "      <th>4</th>\n",
              "      <td>4</td>\n",
              "      <td>1</td>\n",
              "      <td>1</td>\n",
              "      <td>1711</td>\n",
              "      <td>0</td>\n",
              "      <td>0</td>\n",
              "      <td>144.48</td>\n",
              "    </tr>\n",
              "  </tbody>\n",
              "</table>\n",
              "</div>"
            ],
            "text/plain": [
              "   Unnamed: 0  UserId  SessionId  ArticleId_served  Click  \\\n",
              "0           0       1          1              2034      0   \n",
              "1           1       1          1              2091      0   \n",
              "2           2       1          1              3375      0   \n",
              "3           3       1          1              1623      1   \n",
              "4           4       1          1              1711      0   \n",
              "\n",
              "   Percentage Time Spent  optimal_time  \n",
              "0                      0         35.04  \n",
              "1                      0         72.00  \n",
              "2                      0        199.20  \n",
              "3                     16        137.76  \n",
              "4                      0        144.48  "
            ]
          },
          "metadata": {
            "tags": []
          },
          "execution_count": 38
        }
      ]
    },
    {
      "metadata": {
        "id": "VZDIS_EaiKMs",
        "colab_type": "code",
        "colab": {
          "base_uri": "https://localhost:8080/",
          "height": 34
        },
        "outputId": "8a98eab3-d364-41fa-bfc7-12143e82dcdb"
      },
      "cell_type": "code",
      "source": [
        "#Verifying above Optimal time for first row of the dataframe\n",
        "\n",
        "(news_length[2034]/125)*60"
      ],
      "execution_count": 39,
      "outputs": [
        {
          "output_type": "execute_result",
          "data": {
            "text/plain": [
              "35.04"
            ]
          },
          "metadata": {
            "tags": []
          },
          "execution_count": 39
        }
      ]
    },
    {
      "metadata": {
        "id": "9tiSioR5iKP1",
        "colab_type": "code",
        "colab": {}
      },
      "cell_type": "code",
      "source": [
        "click_stream_data['Actual_time_spent'] = (click_stream_data['Percentage Time Spent']/100)*click_stream_data['optimal_time']"
      ],
      "execution_count": 0,
      "outputs": []
    },
    {
      "metadata": {
        "id": "NP793tE9iKTJ",
        "colab_type": "code",
        "colab": {
          "base_uri": "https://localhost:8080/",
          "height": 359
        },
        "outputId": "db0f0a0c-09e7-4878-9f8b-9790bcde382a"
      },
      "cell_type": "code",
      "source": [
        "click_stream_data.head(10)"
      ],
      "execution_count": 41,
      "outputs": [
        {
          "output_type": "execute_result",
          "data": {
            "text/html": [
              "<div>\n",
              "<style scoped>\n",
              "    .dataframe tbody tr th:only-of-type {\n",
              "        vertical-align: middle;\n",
              "    }\n",
              "\n",
              "    .dataframe tbody tr th {\n",
              "        vertical-align: top;\n",
              "    }\n",
              "\n",
              "    .dataframe thead th {\n",
              "        text-align: right;\n",
              "    }\n",
              "</style>\n",
              "<table border=\"1\" class=\"dataframe\">\n",
              "  <thead>\n",
              "    <tr style=\"text-align: right;\">\n",
              "      <th></th>\n",
              "      <th>Unnamed: 0</th>\n",
              "      <th>UserId</th>\n",
              "      <th>SessionId</th>\n",
              "      <th>ArticleId_served</th>\n",
              "      <th>Click</th>\n",
              "      <th>Percentage Time Spent</th>\n",
              "      <th>optimal_time</th>\n",
              "      <th>Actual_time_spent</th>\n",
              "    </tr>\n",
              "  </thead>\n",
              "  <tbody>\n",
              "    <tr>\n",
              "      <th>0</th>\n",
              "      <td>0</td>\n",
              "      <td>1</td>\n",
              "      <td>1</td>\n",
              "      <td>2034</td>\n",
              "      <td>0</td>\n",
              "      <td>0</td>\n",
              "      <td>35.04</td>\n",
              "      <td>0.0000</td>\n",
              "    </tr>\n",
              "    <tr>\n",
              "      <th>1</th>\n",
              "      <td>1</td>\n",
              "      <td>1</td>\n",
              "      <td>1</td>\n",
              "      <td>2091</td>\n",
              "      <td>0</td>\n",
              "      <td>0</td>\n",
              "      <td>72.00</td>\n",
              "      <td>0.0000</td>\n",
              "    </tr>\n",
              "    <tr>\n",
              "      <th>2</th>\n",
              "      <td>2</td>\n",
              "      <td>1</td>\n",
              "      <td>1</td>\n",
              "      <td>3375</td>\n",
              "      <td>0</td>\n",
              "      <td>0</td>\n",
              "      <td>199.20</td>\n",
              "      <td>0.0000</td>\n",
              "    </tr>\n",
              "    <tr>\n",
              "      <th>3</th>\n",
              "      <td>3</td>\n",
              "      <td>1</td>\n",
              "      <td>1</td>\n",
              "      <td>1623</td>\n",
              "      <td>1</td>\n",
              "      <td>16</td>\n",
              "      <td>137.76</td>\n",
              "      <td>22.0416</td>\n",
              "    </tr>\n",
              "    <tr>\n",
              "      <th>4</th>\n",
              "      <td>4</td>\n",
              "      <td>1</td>\n",
              "      <td>1</td>\n",
              "      <td>1711</td>\n",
              "      <td>0</td>\n",
              "      <td>0</td>\n",
              "      <td>144.48</td>\n",
              "      <td>0.0000</td>\n",
              "    </tr>\n",
              "    <tr>\n",
              "      <th>5</th>\n",
              "      <td>5</td>\n",
              "      <td>1</td>\n",
              "      <td>1</td>\n",
              "      <td>3178</td>\n",
              "      <td>0</td>\n",
              "      <td>0</td>\n",
              "      <td>63.36</td>\n",
              "      <td>0.0000</td>\n",
              "    </tr>\n",
              "    <tr>\n",
              "      <th>6</th>\n",
              "      <td>6</td>\n",
              "      <td>1</td>\n",
              "      <td>1</td>\n",
              "      <td>3661</td>\n",
              "      <td>0</td>\n",
              "      <td>0</td>\n",
              "      <td>91.20</td>\n",
              "      <td>0.0000</td>\n",
              "    </tr>\n",
              "    <tr>\n",
              "      <th>7</th>\n",
              "      <td>7</td>\n",
              "      <td>1</td>\n",
              "      <td>1</td>\n",
              "      <td>3676</td>\n",
              "      <td>0</td>\n",
              "      <td>0</td>\n",
              "      <td>108.96</td>\n",
              "      <td>0.0000</td>\n",
              "    </tr>\n",
              "    <tr>\n",
              "      <th>8</th>\n",
              "      <td>8</td>\n",
              "      <td>1</td>\n",
              "      <td>1</td>\n",
              "      <td>589</td>\n",
              "      <td>0</td>\n",
              "      <td>0</td>\n",
              "      <td>60.96</td>\n",
              "      <td>0.0000</td>\n",
              "    </tr>\n",
              "    <tr>\n",
              "      <th>9</th>\n",
              "      <td>9</td>\n",
              "      <td>1</td>\n",
              "      <td>1</td>\n",
              "      <td>3310</td>\n",
              "      <td>0</td>\n",
              "      <td>0</td>\n",
              "      <td>140.64</td>\n",
              "      <td>0.0000</td>\n",
              "    </tr>\n",
              "  </tbody>\n",
              "</table>\n",
              "</div>"
            ],
            "text/plain": [
              "   Unnamed: 0  UserId  SessionId  ArticleId_served  Click  \\\n",
              "0           0       1          1              2034      0   \n",
              "1           1       1          1              2091      0   \n",
              "2           2       1          1              3375      0   \n",
              "3           3       1          1              1623      1   \n",
              "4           4       1          1              1711      0   \n",
              "5           5       1          1              3178      0   \n",
              "6           6       1          1              3661      0   \n",
              "7           7       1          1              3676      0   \n",
              "8           8       1          1               589      0   \n",
              "9           9       1          1              3310      0   \n",
              "\n",
              "   Percentage Time Spent  optimal_time  Actual_time_spent  \n",
              "0                      0         35.04             0.0000  \n",
              "1                      0         72.00             0.0000  \n",
              "2                      0        199.20             0.0000  \n",
              "3                     16        137.76            22.0416  \n",
              "4                      0        144.48             0.0000  \n",
              "5                      0         63.36             0.0000  \n",
              "6                      0         91.20             0.0000  \n",
              "7                      0        108.96             0.0000  \n",
              "8                      0         60.96             0.0000  \n",
              "9                      0        140.64             0.0000  "
            ]
          },
          "metadata": {
            "tags": []
          },
          "execution_count": 41
        }
      ]
    },
    {
      "metadata": {
        "id": "DR9jUae3BvSP",
        "colab_type": "text"
      },
      "cell_type": "markdown",
      "source": [
        "## Distribution of Percentage Time spent as generated by our Mixture Model of Gaussians\n"
      ]
    },
    {
      "metadata": {
        "id": "1sfEMPX_AQng",
        "colab_type": "code",
        "colab": {
          "base_uri": "https://localhost:8080/",
          "height": 376
        },
        "outputId": "1412a70c-5a5d-473d-8596-ef81fdac00bd"
      },
      "cell_type": "code",
      "source": [
        "\n",
        "percentage_time_spent = click_stream_data[click_stream_data['Percentage Time Spent']>0]['Percentage Time Spent']\n",
        "\n",
        "bins = np.arange(0, 130, 2) # fixed bin size\n",
        "\n",
        "plt.xlim([min(percentage_time_spent)-5, max(percentage_time_spent +5)])\n",
        "\n",
        "plt.hist(percentage_time_spent, bins=bins, alpha=0.5)\n",
        "plt.title(\"Distribution of Percentage time spent on news articles by all users\")\n",
        "plt.xlabel('Time Spent (in seconds) (bin size = 2)')\n",
        "plt.ylabel('count')\n",
        "\n",
        "plt.show()\n",
        "\n",
        "\n"
      ],
      "execution_count": 42,
      "outputs": [
        {
          "output_type": "display_data",
          "data": {
            "image/png": "[encoded data removed]",
            "text/plain": [
              "<matplotlib.figure.Figure at 0x7fc64aa52438>"
            ]
          },
          "metadata": {
            "tags": []
          }
        }
      ]
    },
    {
      "metadata": {
        "id": "FzjjxQm2AQqr",
        "colab_type": "code",
        "colab": {}
      },
      "cell_type": "code",
      "source": [
        ""
      ],
      "execution_count": 0,
      "outputs": []
    },
    {
      "metadata": {
        "id": "W4KrKoZuBkC1",
        "colab_type": "text"
      },
      "cell_type": "markdown",
      "source": [
        "### Distribution of Actual Time Spent by all users \n",
        "(After taking into consideration the length of articles through the optimal time for each article ,as calculated above)"
      ]
    },
    {
      "metadata": {
        "id": "W8Jq24n569Lw",
        "colab_type": "code",
        "colab": {}
      },
      "cell_type": "code",
      "source": [
        "time_spent = click_stream_data[click_stream_data['Actual_time_spent']>0]['Actual_time_spent']"
      ],
      "execution_count": 0,
      "outputs": []
    },
    {
      "metadata": {
        "id": "-dmmrS8469YG",
        "colab_type": "code",
        "colab": {
          "base_uri": "https://localhost:8080/",
          "height": 376
        },
        "outputId": "35611f70-6e73-4c3f-9fcf-d070f53d4dbd"
      },
      "cell_type": "code",
      "source": [
        "bins = np.arange(0, 800, 10) # fixed bin size\n",
        "\n",
        "plt.xlim([min(time_spent)-5, 600])\n",
        "\n",
        "plt.hist(time_spent, bins=bins, alpha=0.5)\n",
        "plt.title(\"Distribution of ACTUAL Time Spent on news articles by all users\")\n",
        "plt.xlabel('Time Spent (in seconds) (bin size = 5)')\n",
        "plt.ylabel('count')\n",
        "\n",
        "plt.show()"
      ],
      "execution_count": 44,
      "outputs": [
        {
          "output_type": "display_data",
          "data": {
            "image/png": "[encoded data removed]",
            "text/plain": [
              "<matplotlib.figure.Figure at 0x7fc64aa592e8>"
            ]
          },
          "metadata": {
            "tags": []
          }
        }
      ]
    },
    {
      "metadata": {
        "id": "qgM9zxWWEL8a",
        "colab_type": "text"
      },
      "cell_type": "markdown",
      "source": [
        "## Creating Doc2Vec Representation of all Documents"
      ]
    },
    {
      "metadata": {
        "id": "wOhl_K_liKWI",
        "colab_type": "code",
        "colab": {}
      },
      "cell_type": "code",
      "source": [
        "import os\n",
        "import pprint\n",
        "import re\n",
        "import gensim\n",
        "from gensim.models import Doc2Vec\n",
        "import multiprocessing\n",
        "from multiprocessing import cpu_count"
      ],
      "execution_count": 0,
      "outputs": []
    },
    {
      "metadata": {
        "id": "FMFWxkOKiKZM",
        "colab_type": "code",
        "colab": {}
      },
      "cell_type": "code",
      "source": [
        "news_list=list()"
      ],
      "execution_count": 0,
      "outputs": []
    },
    {
      "metadata": {
        "id": "KWKw9jOniKb5",
        "colab_type": "code",
        "colab": {}
      },
      "cell_type": "code",
      "source": [
        "class LabeledLineSentence(object):\n",
        "    def __init__(self, filename):\n",
        "        self.filename = filename\n",
        "    def __iter__(self):\n",
        "        for uid, line in enumerate(open(filename)):\n",
        "            yield LabeledSentence(words=line.split(), labels=['SENT_%s' % uid])"
      ],
      "execution_count": 0,
      "outputs": []
    },
    {
      "metadata": {
        "id": "JpzCZ7V2iKn1",
        "colab_type": "code",
        "colab": {}
      },
      "cell_type": "code",
      "source": [
        "for index, a in news_data.iterrows():   \n",
        "    \n",
        "    sentence =a['Content']+' '+str(a['Title'])+' '+str(a['Author'])\n",
        "    \n",
        "    news_list.append(gensim.models.doc2vec.TaggedDocument(gensim.utils.simple_preprocess(sentence), [a['Article_Id']]))"
      ],
      "execution_count": 0,
      "outputs": []
    },
    {
      "metadata": {
        "id": "nHam_VdYiKrQ",
        "colab_type": "code",
        "colab": {
          "base_uri": "https://localhost:8080/",
          "height": 71
        },
        "outputId": "11a07aa4-b9b9-4db5-c940-d9c1ef69fca9"
      },
      "cell_type": "code",
      "source": [
        "print(len(news_list))\n",
        "print(news_list[3561])   # Created TaggedDocument Object for every news article"
      ],
      "execution_count": 49,
      "outputs": [
        {
          "output_type": "stream",
          "text": [
            "4831\n",
            "TaggedDocument(['bollywood', 'lovebirds', 'ranbir', 'kapoor', 'and', 'katrina', 'kaif', 'who', 'are', 'currently', 'working', 'together', 'in', 'anurag', 'basu', 'jagga', 'jasoos', 'that', 'has', 'been', 'encountering', 'delays', 'in', 'shooting', 'are', 'likely', 'to', 'star', 'in', 'another', 'film', 'together', 'the', 'real', 'life', 'couple', 'has', 'been', 'approached', 'to', 'play', 'the', 'lead', 'pair', 'in', 'yash', 'raj', 'films', 'yrf', 'untitled', 'next', 'apparently', 'varun', 'dhawan', 'who', 'is', 'one', 'of', 'the', 'most', 'sought', 'after', 'actors', 'thesedays', 'with', 'back', 'to', 'back', 'hits', 'is', 'likely', 'to', 'star', 'alongside', 'ranbir', 'and', 'katrina', 'currently', 'the', 'script', 'is', 'being', 'worked', 'out', 'and', 'it', 'will', 'most', 'likely', 'be', 'romantic', 'comedy', 'as', 'far', 'as', 'the', 'casting', 'goes', 'aditya', 'chopra', 'is', 'keen', 'on', 'roping', 'in', 'ranbir', 'katrina', 'and', 'varun', 'as', 'they', 'will', 'suit', 'the', 'characters', 'being', 'fleshed', 'out', 'but', 'it', 'all', 'depends', 'on', 'their', 'availability', 'source', 'close', 'to', 'the', 'project', 'told', 'mid', 'day', 'however', 'the', 'production', 'house', 'refused', 'to', 'comment', 'on', 'the', 'same', 'we', 'would', 'not', 'like', 'to', 'react', 'to', 'speculations', 'on', 'casting', 'of', 'our', 'future', 'films', 'please', 'wait', 'for', 'our', 'forthcoming', 'film', 'announcements', 'said', 'the', 'yrf', 'spokesperson', 'since', 'no', 'confirmation', 'has', 'been', 'made', 'by', 'yrf', 'regarding', 'the', 'film', 'and', 'the', 'cast', 'this', 'piece', 'of', 'news', 'can', 'be', 'counted', 'as', 'mere', 'speculation', 'besides', 'jagga', 'jasoos', 'after', 'jagga', 'jasoos', 'ranbir', 'kapoor', 'and', 'katrina', 'kaif', 'to', 'star', 'in', 'yash', 'raj', 'films', 'next', 'parismita', 'goswami'], [3561])\n"
          ],
          "name": "stdout"
        }
      ]
    },
    {
      "metadata": {
        "id": "3ONmSaIhiKlq",
        "colab_type": "code",
        "colab": {}
      },
      "cell_type": "code",
      "source": [
        "# Dimensionality of the resulting document vectors.\n",
        "#more dimensions, more computationally expensive to train\n",
        "#but also more accurate\n",
        "#more dimensions = more generalized\n",
        "num_features = 100\n",
        "\n",
        "# Minimum word count threshold.\n",
        "min_word_count = 2\n",
        "\n",
        "# Number of threads to run in parallel.\n",
        "#more workers, faster we train\n",
        "num_workers = multiprocessing.cpu_count()\n",
        "\n",
        "# Context window length.\n",
        "context_size = 10\n",
        "\n",
        "# Downsample setting for frequent words.\n",
        "#0 - 1e-5 is good for this\n",
        "downsampling = 10e-6\n",
        "\n",
        "# Seed for the RNG, to make the results reproducible.\n",
        "#random number generator\n",
        "#deterministic, good for debugging\n",
        "seed = 1"
      ],
      "execution_count": 0,
      "outputs": []
    },
    {
      "metadata": {
        "id": "Age8UULxGs0q",
        "colab_type": "code",
        "colab": {}
      },
      "cell_type": "code",
      "source": [
        "model = gensim.models.Doc2Vec( dm = 1, alpha=0.025, vector_size= num_features, min_alpha=0.025, min_count=min_word_count, workers = num_workers,window = context_size,\n",
        "                              negative = 5, sample = downsampling,seed = 1)"
      ],
      "execution_count": 0,
      "outputs": []
    },
    {
      "metadata": {
        "id": "5nDi7kgbGiCY",
        "colab_type": "code",
        "colab": {}
      },
      "cell_type": "code",
      "source": [
        "model.build_vocab(news_list)"
      ],
      "execution_count": 0,
      "outputs": []
    },
    {
      "metadata": {
        "id": "IXblHODcGiJt",
        "colab_type": "code",
        "colab": {
          "base_uri": "https://localhost:8080/",
          "height": 34
        },
        "outputId": "dcd708b3-92f0-4017-df2f-06edf7d5b4a9"
      },
      "cell_type": "code",
      "source": [
        "model.corpus_count"
      ],
      "execution_count": 53,
      "outputs": [
        {
          "output_type": "execute_result",
          "data": {
            "text/plain": [
              "4831"
            ]
          },
          "metadata": {
            "tags": []
          },
          "execution_count": 53
        }
      ]
    },
    {
      "metadata": {
        "id": "BnTE0ipuGiNG",
        "colab_type": "code",
        "colab": {
          "base_uri": "https://localhost:8080/",
          "height": 187
        },
        "outputId": "b26f06f0-49d3-4066-e1de-7b876e5d1f8b"
      },
      "cell_type": "code",
      "source": [
        "# start training (Will take about 20 minutes to train)\n",
        "for epoch in range(20):\n",
        "    if epoch % 2 == 0:\n",
        "        print ('Now training epoch %s'%epoch)\n",
        "    model.train(news_list, total_examples= model.corpus_count, epochs=20)\n",
        "    model.alpha -= 0.002  # decrease the learning rate\n",
        "    model.min_alpha = model.alpha  # fix the learning rate, no decay"
      ],
      "execution_count": 54,
      "outputs": [
        {
          "output_type": "stream",
          "text": [
            "Now training epoch 0\n",
            "Now training epoch 2\n",
            "Now training epoch 4\n",
            "Now training epoch 6\n",
            "Now training epoch 8\n",
            "Now training epoch 10\n",
            "Now training epoch 12\n",
            "Now training epoch 14\n",
            "Now training epoch 16\n",
            "Now training epoch 18\n"
          ],
          "name": "stdout"
        }
      ]
    },
    {
      "metadata": {
        "id": "c4zRleWLKtLC",
        "colab_type": "text"
      },
      "cell_type": "markdown",
      "source": [
        "### Explore the trained model."
      ]
    },
    {
      "metadata": {
        "id": "k5alDhjdGiYa",
        "colab_type": "code",
        "colab": {
          "base_uri": "https://localhost:8080/",
          "height": 391
        },
        "outputId": "065851c9-a9ce-4bb2-aa1f-65b5c36d8b1d"
      },
      "cell_type": "code",
      "source": [
        "type(model.docvecs),model.docvecs[0]   #50 length doc2vec for Article_Id '0'"
      ],
      "execution_count": 55,
      "outputs": [
        {
          "output_type": "execute_result",
          "data": {
            "text/plain": [
              "(gensim.models.keyedvectors.Doc2VecKeyedVectors,\n",
              " array([-0.06279828,  2.7389476 , -2.165651  ,  2.118585  ,  1.299667  ,\n",
              "         0.4570813 ,  0.6517864 ,  0.733076  , -1.4207861 , -2.1578472 ,\n",
              "        -0.09532958,  1.1896428 , -1.3897967 ,  1.0946971 , -0.98229754,\n",
              "        -0.41821775,  1.3843094 ,  0.5071587 , -4.406947  ,  1.1240064 ,\n",
              "         3.2737396 ,  0.14214069, -2.0335867 ,  1.8011222 ,  1.1402266 ,\n",
              "        -3.1747746 ,  0.32155994,  0.22760525,  1.3943702 ,  0.22993587,\n",
              "        -0.5295977 , -0.74242425, -1.1763742 ,  0.11407838,  1.7511857 ,\n",
              "        -4.4422584 , -1.2637751 , -0.56843024, -1.7556788 , -0.95902526,\n",
              "         0.38804048,  1.582597  ,  1.380103  ,  1.7863513 ,  0.86756593,\n",
              "        -2.5871575 ,  2.1864526 ,  1.1953868 , -3.7070246 , -0.7592393 ,\n",
              "        -0.6510491 ,  1.5071203 , -1.3753115 , -0.27372858,  0.0855688 ,\n",
              "         1.3230897 , -0.7255438 ,  0.42250735, -0.49203753, -0.74900013,\n",
              "        -1.2399089 ,  0.5324465 , -0.27703643,  3.681218  , -0.2199744 ,\n",
              "        -0.6544015 ,  1.2942095 , -0.59769166,  0.36060008, -0.37615722,\n",
              "        -3.4318008 , -0.28437766,  0.22631267,  1.4517447 , -0.01674875,\n",
              "        -1.8392744 ,  0.22335592, -1.7678293 , -0.6543927 , -2.7469594 ,\n",
              "        -1.5234091 , -1.1814055 ,  3.469153  , -1.2163815 ,  2.9844983 ,\n",
              "         4.261469  ,  1.3166853 , -0.83248895, -1.5495477 , -0.08362781,\n",
              "        -1.3396683 ,  0.64282864,  0.3304544 ,  0.20191212,  3.7055213 ,\n",
              "         1.5106081 , -1.6519415 , -1.6199573 ,  1.0813227 ,  0.40367183],\n",
              "       dtype=float32))"
            ]
          },
          "metadata": {
            "tags": []
          },
          "execution_count": 55
        }
      ]
    },
    {
      "metadata": {
        "id": "1i_Trf7TOc5D",
        "colab_type": "text"
      },
      "cell_type": "markdown",
      "source": [
        "### Compress the document vectors into 2D space and plot them"
      ]
    },
    {
      "metadata": {
        "id": "g1Idi5qic6-A",
        "colab_type": "code",
        "colab": {
          "base_uri": "https://localhost:8080/",
          "height": 71
        },
        "outputId": "37ac3a50-0c94-4c18-bf77-02cb0710d4f9"
      },
      "cell_type": "code",
      "source": [
        "all_doc_vectors_matrix = model.docvecs.doctag_syn0"
      ],
      "execution_count": 56,
      "outputs": [
        {
          "output_type": "stream",
          "text": [
            "/usr/local/lib/python3.6/dist-packages/ipykernel_launcher.py:1: DeprecationWarning: Call to deprecated `doctag_syn0` (Attribute will be removed in 4.0.0, use docvecs.vectors_docs instead).\n",
            "  \"\"\"Entry point for launching an IPython kernel.\n"
          ],
          "name": "stderr"
        }
      ]
    },
    {
      "metadata": {
        "id": "CliXm9uzOkcj",
        "colab_type": "code",
        "colab": {
          "base_uri": "https://localhost:8080/",
          "height": 34
        },
        "outputId": "823704a2-60c4-40d6-94fb-2bfe9098789e"
      },
      "cell_type": "code",
      "source": [
        "from sklearn.decomposition import PCA\n",
        "\n",
        "pca_2 = PCA(n_components=2)\n",
        "pca_result_2 = pca_2.fit_transform(all_doc_vectors_matrix)\n",
        "\n",
        "print ('Cumulative explained variation for 2 principal components: {}'.format(np.sum(pca_2.explained_variance_ratio_)))"
      ],
      "execution_count": 57,
      "outputs": [
        {
          "output_type": "stream",
          "text": [
            "Cumulative explained variation for 2 principal components: 0.06080598384141922\n"
          ],
          "name": "stdout"
        }
      ]
    },
    {
      "metadata": {
        "id": "bGr1igciOplg",
        "colab_type": "text"
      },
      "cell_type": "markdown",
      "source": [
        "## Since PCA is explaining very less variance(06.06 %) by reducing to 2 dimensions, we will use t-SNE for vizualizing data in 2 dimensions."
      ]
    },
    {
      "metadata": {
        "id": "7YYAijHiGieD",
        "colab_type": "code",
        "colab": {}
      },
      "cell_type": "code",
      "source": [
        "import sklearn.manifold\n",
        "\n",
        "tsne = sklearn.manifold.TSNE(n_components=2, random_state=0)"
      ],
      "execution_count": 0,
      "outputs": []
    },
    {
      "metadata": {
        "id": "r7r1U4uKO-h8",
        "colab_type": "code",
        "colab": {
          "base_uri": "https://localhost:8080/",
          "height": 34
        },
        "outputId": "67f2494f-c642-460a-e1cc-3f6d17f0d2b8"
      },
      "cell_type": "code",
      "source": [
        "print(type(all_doc_vectors_matrix),all_doc_vectors_matrix.shape)\n",
        "\n"
      ],
      "execution_count": 59,
      "outputs": [
        {
          "output_type": "stream",
          "text": [
            "<class 'numpy.ndarray'> (4831, 100)\n"
          ],
          "name": "stdout"
        }
      ]
    },
    {
      "metadata": {
        "id": "obHwAVsdPHTh",
        "colab_type": "text"
      },
      "cell_type": "markdown",
      "source": [
        "### Train t-sne"
      ]
    },
    {
      "metadata": {
        "id": "RxPX1YgFO-sp",
        "colab_type": "code",
        "colab": {}
      },
      "cell_type": "code",
      "source": [
        "all_doc_vectors_matrix_2d = tsne.fit_transform(all_doc_vectors_matrix) #will take about 5 minutes to train"
      ],
      "execution_count": 0,
      "outputs": []
    },
    {
      "metadata": {
        "id": "uwydz9yJO-yT",
        "colab_type": "code",
        "colab": {
          "base_uri": "https://localhost:8080/",
          "height": 34
        },
        "outputId": "2f18844e-c665-448c-ef2f-cc99ec7afe8f"
      },
      "cell_type": "code",
      "source": [
        "all_doc_vectors_matrix_2d.shape"
      ],
      "execution_count": 61,
      "outputs": [
        {
          "output_type": "execute_result",
          "data": {
            "text/plain": [
              "(4831, 2)"
            ]
          },
          "metadata": {
            "tags": []
          },
          "execution_count": 61
        }
      ]
    },
    {
      "metadata": {
        "id": "Ro0KjGGPPZQ1",
        "colab_type": "code",
        "colab": {
          "base_uri": "https://localhost:8080/",
          "height": 102
        },
        "outputId": "28c7cbdf-8472-46ea-d11a-ef4f9c69ad29"
      },
      "cell_type": "code",
      "source": [
        "data = all_doc_vectors_matrix_2d\n",
        "data[:5]"
      ],
      "execution_count": 62,
      "outputs": [
        {
          "output_type": "execute_result",
          "data": {
            "text/plain": [
              "array([[ 13.959733  , -22.59889   ],\n",
              "       [-10.581424  ,  17.579378  ],\n",
              "       [  0.72858435,  -7.483966  ],\n",
              "       [-46.181595  , -11.248044  ],\n",
              "       [  9.653675  ,   0.7914525 ]], dtype=float32)"
            ]
          },
          "metadata": {
            "tags": []
          },
          "execution_count": 62
        }
      ]
    },
    {
      "metadata": {
        "id": "lVuFQ2esQfvW",
        "colab_type": "text"
      },
      "cell_type": "markdown",
      "source": [
        "## Plot the Big Picture"
      ]
    },
    {
      "metadata": {
        "id": "KoCYMG9_QfDV",
        "colab_type": "code",
        "colab": {}
      },
      "cell_type": "code",
      "source": [
        "index = ['news'+str(i) for i in range(1, len(data)+1)]"
      ],
      "execution_count": 0,
      "outputs": []
    },
    {
      "metadata": {
        "id": "kU1E0JzLGiV_",
        "colab_type": "code",
        "colab": {
          "base_uri": "https://localhost:8080/",
          "height": 204
        },
        "outputId": "ff8c0fcd-cc4b-480b-df3b-0c35e435b61f"
      },
      "cell_type": "code",
      "source": [
        "points = pd.DataFrame(data=data[0:,0:],    # values\n",
        "              index=index,    # 1st column as index\n",
        "              columns=[ \"x\", \"y\"]# 1st row as the column names\n",
        "             \n",
        "            )\n",
        "\n",
        "points.head()"
      ],
      "execution_count": 64,
      "outputs": [
        {
          "output_type": "execute_result",
          "data": {
            "text/html": [
              "<div>\n",
              "<style scoped>\n",
              "    .dataframe tbody tr th:only-of-type {\n",
              "        vertical-align: middle;\n",
              "    }\n",
              "\n",
              "    .dataframe tbody tr th {\n",
              "        vertical-align: top;\n",
              "    }\n",
              "\n",
              "    .dataframe thead th {\n",
              "        text-align: right;\n",
              "    }\n",
              "</style>\n",
              "<table border=\"1\" class=\"dataframe\">\n",
              "  <thead>\n",
              "    <tr style=\"text-align: right;\">\n",
              "      <th></th>\n",
              "      <th>x</th>\n",
              "      <th>y</th>\n",
              "    </tr>\n",
              "  </thead>\n",
              "  <tbody>\n",
              "    <tr>\n",
              "      <th>news1</th>\n",
              "      <td>13.959733</td>\n",
              "      <td>-22.598890</td>\n",
              "    </tr>\n",
              "    <tr>\n",
              "      <th>news2</th>\n",
              "      <td>-10.581424</td>\n",
              "      <td>17.579378</td>\n",
              "    </tr>\n",
              "    <tr>\n",
              "      <th>news3</th>\n",
              "      <td>0.728584</td>\n",
              "      <td>-7.483966</td>\n",
              "    </tr>\n",
              "    <tr>\n",
              "      <th>news4</th>\n",
              "      <td>-46.181595</td>\n",
              "      <td>-11.248044</td>\n",
              "    </tr>\n",
              "    <tr>\n",
              "      <th>news5</th>\n",
              "      <td>9.653675</td>\n",
              "      <td>0.791453</td>\n",
              "    </tr>\n",
              "  </tbody>\n",
              "</table>\n",
              "</div>"
            ],
            "text/plain": [
              "               x          y\n",
              "news1  13.959733 -22.598890\n",
              "news2 -10.581424  17.579378\n",
              "news3   0.728584  -7.483966\n",
              "news4 -46.181595 -11.248044\n",
              "news5   9.653675   0.791453"
            ]
          },
          "metadata": {
            "tags": []
          },
          "execution_count": 64
        }
      ]
    },
    {
      "metadata": {
        "id": "Iq_4b9tinjkB",
        "colab_type": "code",
        "colab": {
          "base_uri": "https://localhost:8080/",
          "height": 552
        },
        "outputId": "13ba62dc-3498-4df7-81c5-0a6099953e8a"
      },
      "cell_type": "code",
      "source": [
        "import seaborn as sns\n",
        "import matplotlib\n",
        "\n",
        "sns.set_context(\"poster\")\n",
        "\n",
        "fig, ax = plt.subplots()\n",
        "ax.scatter(points['x'],points['y'], s = 3)\n",
        "\n",
        "  \n",
        "ax.annotate('3774', (points['x'][3774],points['y'][3774]))\n",
        "\n",
        "ax.annotate('0', (points['x'][0],points['y'][0]))\n",
        "\n",
        "# ax.annotate('13', (points['x'][13],points['y'][13]))\n",
        "\n",
        "# ax.annotate('3320', (points['x'][3320],points['y'][3320]))\n",
        "\n",
        "\n"
      ],
      "execution_count": 65,
      "outputs": [
        {
          "output_type": "execute_result",
          "data": {
            "text/plain": [
              "Text(13.9597,-22.5989,'0')"
            ]
          },
          "metadata": {
            "tags": []
          },
          "execution_count": 65
        },
        {
          "output_type": "display_data",
          "data": {
            "image/png": "[encoded data removed]",
            "text/plain": [
              "<matplotlib.figure.Figure at 0x7fc63c243128>"
            ]
          },
          "metadata": {
            "tags": []
          }
        }
      ]
    },
    {
      "metadata": {
        "id": "ovolgHR5QrdL",
        "colab_type": "code",
        "colab": {
          "base_uri": "https://localhost:8080/",
          "height": 187
        },
        "outputId": "2d5ad953-a95c-4baa-b2fd-8df1f2ee7f87"
      },
      "cell_type": "code",
      "source": [
        "closest_doc2 = model.docvecs.most_similar([model.docvecs[0]],topn=10)\n",
        "\n",
        "closest_doc2\n",
        "\n",
        "# Most similar docs to document with Id- '0'\n",
        "# Note the first four similar docs-Ids annotated in above graph (very closely spaced)"
      ],
      "execution_count": 66,
      "outputs": [
        {
          "output_type": "execute_result",
          "data": {
            "text/plain": [
              "[(0, 0.9999999403953552),\n",
              " (13, 0.6717875003814697),\n",
              " (12, 0.646547257900238),\n",
              " (3320, 0.6458587050437927),\n",
              " (3073, 0.6442161798477173),\n",
              " (3317, 0.6291467547416687),\n",
              " (3318, 0.621284008026123),\n",
              " (2957, 0.6066161394119263),\n",
              " (3774, 0.6048301458358765),\n",
              " (18, 0.6013597249984741)]"
            ]
          },
          "metadata": {
            "tags": []
          },
          "execution_count": 66
        }
      ]
    },
    {
      "metadata": {
        "id": "f_xQNz71dn5G",
        "colab_type": "code",
        "colab": {
          "base_uri": "https://localhost:8080/",
          "height": 122
        },
        "outputId": "a2d19daa-170e-4e56-e258-650f22c8fe4a"
      },
      "cell_type": "code",
      "source": [
        "#looking at the above generated similar docs\n",
        "\n",
        "news_list[0],news_list[3774] , news_list[3320], news_list[13], news_list[3073]"
      ],
      "execution_count": 67,
      "outputs": [
        {
          "output_type": "execute_result",
          "data": {
            "text/plain": [
              "(TaggedDocument(words=['at', 'least', 'people', 'died', 'and', 'others', 'were', 'injured', 'after', 'bus', 'travelling', 'from', 'hyderabad', 'to', 'kakinada', 'plunged', 'into', 'canal', 'from', 'bridge', 'on', 'the', 'accident', 'prone', 'stretch', 'of', 'the', 'hyderabad', 'khammam', 'highway', 'in', 'telangana', 'early', 'monday', 'morning', 'the', 'injured', 'were', 'admitted', 'to', 'the', 'government', 'general', 'hospital', 'for', 'treatment', 'seven', 'people', 'died', 'on', 'the', 'spot', 'and', 'the', 'others', 'succumbed', 'to', 'injuries', 'while', 'undergoing', 'treatment', 'at', 'the', 'hospital', 'the', 'passengers', 'belonged', 'to', 'the', 'east', 'and', 'west', 'godavari', 'districts', 'of', 'andhra', 'pradesh', 'the', 'bus', 'owned', 'by', 'private', 'operator', 'yatra', 'genie', 'commenced', 'its', 'journey', 'from', 'hyderabad', 'at', 'on', 'sunday', 'khammam', 'superintendent', 'of', 'police', 'shah', 'nawaz', 'khan', 'was', 'quoted', 'by', 'the', 'hindustan', 'times', 'as', 'saying', 'the', 'accident', 'happened', 'around', 'when', 'the', 'driver', 'slammed', 'the', 'brakes', 'to', 'avoid', 'collision', 'with', 'another', 'vehicle', 'coming', 'from', 'the', 'opposite', 'direction', 'on', 'bridge', 'over', 'nagarjunsagar', 'project', 'left', 'canal', 'at', 'nayankangudem', 'village', 'in', 'khammam', 'district', 'the', 'daily', 'reported', 'the', 'bus', 'hit', 'the', 'parapet', 'wall', 'of', 'the', 'bridge', 'and', 'nose', 'dived', 'into', 'the', 'canal', 'the', 'driver', 'of', 'the', 'bus', 'was', 'apparently', 'driving', 'at', 'high', 'speed', 'due', 'to', 'which', 'he', 'lost', 'control', 'of', 'the', 'vehicle', 'following', 'which', 'it', 'fell', 'into', 'the', 'canal', 'under', 'kusumanchi', 'mandal', 'the', 'deccan', 'herald', 'reported', 'travellers', 'immediately', 'informed', 'the', 'police', 'who', 'rushed', 'to', 'the', 'accident', 'scene', 'and', 'began', 'the', 'rescue', 'operations', 'dead', 'after', 'bus', 'falls', 'into', 'canal', 'in', 'telangana', 'khammam', 'district', 'andhra', 'cm', 'promises', 'rs', 'lakh', 'compensation', 'devyani', 'sultania'], tags=[0]),\n",
              " TaggedDocument(words=['two', 'people', 'including', 'the', 'bus', 'driver', 'were', 'killed', 'and', 'others', 'were', 'injured', 'when', 'maharashtra', 'state', 'corporation', 'bus', 'plunged', 'feet', 'into', 'gorge', 'at', 'kunegaon', 'near', 'khandala', 'on', 'pune', 'mumbai', 'expressway', 'on', 'friday', 'evening', 'the', 'survivors', 'claimed', 'that', 'the', 'driver', 'was', 'earlier', 'beaten', 'up', 'in', 'katraj', 'for', 'driving', 'rashly', 'some', 'of', 'the', 'injured', 'were', 'shifted', 'to', 'private', 'hospital', 'in', 'lonavala', 'while', 'others', 'were', 'taken', 'to', 'lokmanya', 'hospital', 'in', 'nigdi', 'the', 'bus', 'carrying', 'passengers', 'was', 'on', 'its', 'way', 'to', 'mumbai', 'from', 'satara', 'when', 'the', 'incident', 'occurred', 'the', 'bus', 'driver', 'trying', 'to', 'overtake', 'tempo', 'lost', 'control', 'of', 'the', 'vehicle', 'which', 'then', 'fell', 'into', 'the', 'gorge', 'and', 'overturned', 'driver', 'rajaram', 'shivtare', 'and', 'passenger', 'vijay', 'todkari', 'were', 'killed', 'in', 'the', 'accident', 'the', 'exact', 'reason', 'for', 'the', 'accident', 'is', 'still', 'unknown', 'however', 'preliminary', 'enquiries', 'suggest', 'that', 'the', 'driver', 'was', 'over', 'speeding', 'and', 'had', 'he', 'not', 'gotten', 'into', 'race', 'with', 'the', 'tempo', 'the', 'accident', 'could', 'have', 'been', 'avoided', 'according', 'to', 'police', 'from', 'our', 'preliminary', 'findings', 'it', 'appears', 'that', 'the', 'speeding', 'bus', 'was', 'overtaking', 'tempo', 'on', 'the', 'expressway', 'viaduct', 'on', 'kunegaon', 'bridge', 'when', 'it', 'hit', 'the', 'tempo', 'the', 'bus', 'driver', 'lost', 'control', 'and', 'the', 'vehicle', 'veered', 'off', 'to', 'the', 'left', 'off', 'the', 'road', 'to', 'hit', 'crash', 'metal', 'barrier', 'and', 'fell', 'into', 'the', 'gorge', 'highway', 'police', 'superintendent', 'sg', 'sonawane', 'told', 'the', 'times', 'of', 'india', 'the', 'bus', 'was', 'moving', 'at', 'high', 'speed', 'when', 'it', 'tried', 'to', 'overtake', 'the', 'tempo', 'and', 'eventually', 'crashed', 'into', 'the', 'barrier', 'and', 'fell', 'into', 'the', 'gorge', 'assistant', 'police', 'inspector', 'mohan', 'chalke', 'said', 'the', 'passengers', 'who', 'survived', 'in', 'the', 'accident', 'have', 'also', 'claimed', 'that', 'since', 'the', 'start', 'of', 'their', 'journey', 'from', 'satara', 'the', 'driver', 'was', 'driving', 'rashly', 'and', 'racing', 'with', 'other', 'vehicles', 'on', 'the', 'way', 'as', 'consequence', 'of', 'which', 'he', 'was', 'beaten', 'up', 'in', 'katraj', 'just', 'after', 'we', 'left', 'satara', 'he', 'overtook', 'four', 'wheeler', 'rather', 'dangerously', 'in', 'the', 'khandala', 'bavda', 'tunnel', 'the', 'four', 'wheeler', 'almost', 'crashed', 'against', 'the', 'tunnel', 'side', 'wall', 'the', 'passengers', 'in', 'the', 'four', 'wheeler', 'were', 'angry', 'and', 'chased', 'the', 'bus', 'till', 'katraj', 'where', 'they', 'intercepted', 'it', 'the', 'driver', 'stopped', 'the', 'bus', 'and', 'there', 'was', 'heated', 'exchange', 'of', 'words', 'and', 'he', 'was', 'beaten', 'up', 'one', 'of', 'the', 'injured', 'passengers', 'prakash', 'shinde', 'told', 'toi', 'the', 'place', 'is', 'marked', 'as', 'an', 'accident', 'prone', 'area', 'as', 'the', 'turn', 'on', 'the', 'expressway', 'is', 'sharp', 'there', 'have', 'been', 'several', 'other', 'accidents', 'at', 'that', 'spot', 'in', 'the', 'past', 'the', 'lonavla', 'police', 'called', 'us', 'around', 'pm', 'seeking', 'our', 'help', 'in', 'the', 'rescue', 'work', 'there', 'is', 'sharp', 'turn', 'on', 'the', 'bridge', 'at', 'kilometre', 'number', 'the', 'bus', 'fell', 'in', 'the', 'foot', 'deep', 'valley', 'at', 'this', 'spot', 'we', 'know', 'this', 'spot', 'very', 'well', 'as', 'few', 'accidents', 'have', 'taken', 'place', 'here', 'in', 'the', 'past', 'when', 'we', 'had', 'gone', 'to', 'rescue', 'the', 'victims', 'lonavla', 'shivdurg', 'trekkers', 'group', 'member', 'sunil', 'gaikwad', 'said', 'two', 'killed', 'hurt', 'as', 'bus', 'plunges', 'into', 'gorge', 'near', 'khandala', 'passengers', 'blame', 'driver', 'neha', 'singh'], tags=[3774]),\n",
              " TaggedDocument(words=['five', 'passengers', 'of', 'bus', 'were', 'killed', 'after', 'the', 'vehicle', 'was', 'hit', 'by', 'brick', 'loaded', 'tractor', 'trolly', 'close', 'to', 'the', 'yamuna', 'expressway', 'in', 'uttar', 'pradesh', 'mathura', 'distict', 'on', 'wednesday', 'police', 'said', 'at', 'least', 'two', 'dozen', 'other', 'passengers', 'were', 'injured', 'several', 'of', 'them', 'seriously', 'and', 'were', 'taken', 'to', 'hospital', 'in', 'vrindavan', 'local', 'officials', 'reached', 'the', 'spot', 'to', 'oversee', 'rescue', 'operations', 'the', 'dead', 'were', 'identified', 'as', 'rewati', 'prasad', 'ram', 'babu', 'prem', 'pal', 'lahuari', 'and', 'mahendra', 'uttar', 'pradesh', 'five', 'killed', 'in', 'accident', 'near', 'yamuna', 'expressway', 'in', 'mathura', 'ians'], tags=[3320]),\n",
              " TaggedDocument(words=['twelve', 'people', 'died', 'and', 'at', 'least', 'eight', 'were', 'injured', 'after', 'bus', 'fell', 'into', 'deep', 'gorge', 'on', 'wednesday', 'morning', 'while', 'on', 'its', 'way', 'from', 'masi', 'almora', 'to', 'ramnagar', 'small', 'town', 'located', 'in', 'the', 'nainital', 'district', 'of', 'uttarakhand', 'reports', 'ani', 'district', 'disaster', 'management', 'officer', 'rakesh', 'joshi', 'was', 'quoted', 'by', 'the', 'new', 'indian', 'express', 'as', 'saying', 'the', 'bus', 'fell', 'into', 'deep', 'gorge', 'at', 'churighatti', 'in', 'the', 'almora', 'district', 'of', 'uttarakhand', 'around', 'joshi', 'also', 'said', 'the', 'injured', 'have', 'been', 'rushed', 'to', 'the', 'phc', 'bhatrokhan', 'hospital', 'and', 'the', 'civil', 'hospital', 'in', 'ranikhet', 'the', 'people', 'who', 'died', 'in', 'the', 'accident', 'are', 'yet', 'to', 'be', 'identified', 'the', 'daily', 'reported', 'joshi', 'has', 'reportedly', 'said', 'rescue', 'operations', 'are', 'being', 'carried', 'out', 'under', 'the', 'supervision', 'of', 'senior', 'officials', 'uttarakhand', 'dead', 'as', 'bus', 'falls', 'into', 'gorge', 'in', 'almora', 'devyani', 'sultania'], tags=[13]),\n",
              " TaggedDocument(words=['at', 'least', 'people', 'were', 'killed', 'and', 'others', 'injured', 'when', 'tempo', 'fell', 'into', 'deep', 'gorge', 'in', 'jammu', 'udhampur', 'district', 'on', 'tuesday', 'morning', 'five', 'women', 'and', 'child', 'are', 'among', 'the', 'deceased', 'passengers', 'according', 'to', 'the', 'tribune', 'report', 'the', 'accident', 'occurred', 'in', 'dalsar', 'area', 'of', 'udhampur', 'when', 'the', 'tempo', 'was', 'on', 'its', 'way', 'from', 'ghordi', 'village', 'to', 'ramnagar', 'town', 'in', 'udhampur', 'district', 'earlier', 'people', 'were', 'reported', 'to', 'have', 'been', 'killed', 'in', 'the', 'accident', 'that', 'is', 'said', 'to', 'have', 'happened', 'when', 'the', 'driver', 'lost', 'control', 'of', 'the', 'vehicle', 'twelve', 'people', 'were', 'killed', 'when', 'mini', 'bus', 'went', 'out', 'of', 'the', 'driver', 'control', 'and', 'plunged', 'into', 'deep', 'gorge', 'in', 'the', 'hilly', 'area', 'police', 'officer', 'told', 'ians', 'rescue', 'operation', 'is', 'underway', 'at', 'the', 'accident', 'site', 'more', 'details', 'are', 'awaited', 'udhampur', 'dead', 'injured', 'as', 'tempo', 'falls', 'into', 'gorge', 'neha', 'singh'], tags=[3073]))"
            ]
          },
          "metadata": {
            "tags": []
          },
          "execution_count": 67
        }
      ]
    },
    {
      "metadata": {
        "id": "cwum793MTWcW",
        "colab_type": "text"
      },
      "cell_type": "markdown",
      "source": [
        "## Verifying that linear combination of doc2vec still keeps the context intact\n",
        "(Same concept would be used while creating User2Vec going further)"
      ]
    },
    {
      "metadata": {
        "id": "OEf9j2MtTPH0",
        "colab_type": "code",
        "colab": {
          "base_uri": "https://localhost:8080/",
          "height": 71
        },
        "outputId": "e5a7fe99-069a-4de1-d95c-c5ae79a2b5b6"
      },
      "cell_type": "code",
      "source": [
        "news_list[1000], news_list[200]"
      ],
      "execution_count": 68,
      "outputs": [
        {
          "output_type": "execute_result",
          "data": {
            "text/plain": [
              "(TaggedDocument(words=['after', 'months', 'of', 'delay', 'american', 'network', 'carrier', 'mobile', 'released', 'the', 'android', 'marshmallow', 'update', 'to', 'series', 'flagship', 'phablets', 'galaxy', 'note', 'edge', 'and', 'note', 'in', 'the', 'the', 'new', 'update', 'with', 'baseband', 'versions', 'tuvu', 'dpe', 'or', 'uvu', 'dpe', 'and', 'tuvu', 'cpe', 'which', 'weigh', 'around', 'gb', 'are', 'being', 'deployed', 'to', 'the', 'galaxy', 'note', 'and', 'note', 'edge', 'respectively', 'via', 'over', 'the', 'air', 'ota', 'the', 'company', 'said', 'on', 'the', 'support', 'page', 'the', 'new', 'android', 'marshmallow', 'brings', 'the', 'doze', 'battery', 'optimisation', 'feature', 'improved', 'now', 'on', 'tap', 'search', 'option', 'support', 'for', 'more', 'international', 'dialects', 'silent', 'mode', 'to', 'the', 'sound', 'profile', 'do', 'not', 'disturb', 'option', 'performance', 'enhancing', 'optimisations', 'enhanced', 'boot', 'security', 'system', 'and', 'many', 'more', 'also', 'read', 'google', 'android', 'marshmallow', 'key', 'features', 'you', 'need', 'to', 'know', 'in', 'addition', 'to', 'the', 'marshmallow', 'features', 'samsung', 'devices', 'get', 'enhanced', 'touchwiz', 'ui', 'features', 'and', 'google', 'latest', 'june', 'security', 'updates', 'the', 'galaxy', 'note', 'will', 'also', 'receive', 'anti', 'theft', 'update', 'uvu', 'dpe', 'and', 'also', 'fix', 'for', 'google', 'voice', 'bug', 'tuvu', 'dpe', 'how', 'to', 'check', 'for', 'ota', 'update', 'on', 'samsung', 'phones', 'from', 'the', 'home', 'screen', 'tap', 'settings', 'scroll', 'down', 'to', 'system', 'and', 'then', 'tap', 'about', 'device', 'tap', 'download', 'updates', 'manually', 'tap', 'ok', 'tap', 'start', 'restart', 'message', 'will', 'appear', 'tap', 'ok', 'since', 'the', 'ota', 'update', 'is', 'carried', 'out', 'in', 'stages', 'it', 'will', 'take', 'couple', 'of', 'days', 'to', 'reach', 'all', 'corners', 'of', 'the', 'country', 'how', 'to', 'download', 'and', 'install', 'the', 'update', 'manually', 'on', 'samsung', 'phone', 'via', 'computer', 'make', 'sure', 'samsung', 'smart', 'switch', 'software', 'is', 'installed', 'on', 'computer', 'or', 'else', 'download', 'here', 'connect', 'the', 'cable', 'to', 'compatible', 'usb', 'port', 'on', 'your', 'computer', 'connect', 'the', 'other', 'end', 'of', 'the', 'cable', 'to', 'your', 'mobile', 'device', 'allow', 'your', 'computer', 'to', 'install', 'any', 'required', 'drivers', 'for', 'your', 'device', 'this', 'process', 'may', 'take', 'few', 'minutes', 'open', 'smart', 'switch', 'on', 'your', 'computer', 'and', 'allow', 'it', 'to', 'make', 'the', 'connection', 'if', 'software', 'update', 'is', 'available', 'for', 'your', 'device', 'smart', 'switch', 'will', 'automatically', 'prompt', 'you', 'to', 'update', 'at', 'any', 'time', 'you', 'can', 'click', 'update', 'click', 'update', 'to', 'begin', 'downloading', 'the', 'necessary', 'files', 'click', 'ok', 'to', 'proceed', 'your', 'device', 'may', 'turn', 'off', 'and', 'on', 'few', 'times', 'during', 'the', 'update', 'process', 'once', 'complete', 'the', 'device', 'will', 'return', 'to', 'the', 'home', 'screen', 'android', 'marshmallow', 'arrives', 'to', 'mobile', 'samsung', 'galaxy', 'note', 'note', 'edge', 'how', 'to', 'install', 'rohit', 'kvn'], tags=[1000]),\n",
              " TaggedDocument(words=['the', 'trailer', 'of', 'long', 'delayed', 'rajini', 'murugan', 'was', 'released', 'on', 'thursday', 'december', 'to', 'coincide', 'with', 'the', 'new', 'year', 'celebrations', 'sony', 'music', 'the', 'official', 'audio', 'rights', 'holder', 'of', 'rajini', 'murugan', 'sivakarthikeyan', 'rajini', 'murugan', 'trailer', 'released', 'on', 'thursday', 'the', 'video', 'garners', 'positive', 'reviews', 'prakash', 'upadhyaya'], tags=[200]))"
            ]
          },
          "metadata": {
            "tags": []
          },
          "execution_count": 68
        }
      ]
    },
    {
      "metadata": {
        "id": "e5DOW91HQrtU",
        "colab_type": "code",
        "colab": {
          "base_uri": "https://localhost:8080/",
          "height": 292
        },
        "outputId": "bfcd1266-bcda-46bb-d82c-e6dae1e350cd"
      },
      "cell_type": "code",
      "source": [
        "\n",
        "\n",
        "closest_doc2 = model.docvecs.most_similar([0.5*model.docvecs[200]]+ [model.docvecs[1000]],topn=10)\n",
        "\n",
        "closest_doc2 ,news_list[200],news_list[1000], news_list[1012] , news_list[961], news_list[1076]   #The similar documents are related to doc-Id 1000 since it has been given High weightage"
      ],
      "execution_count": 73,
      "outputs": [
        {
          "output_type": "execute_result",
          "data": {
            "text/plain": [
              "([(1000, 0.9811493158340454),\n",
              "  (1012, 0.7443543076515198),\n",
              "  (1428, 0.6969035267829895),\n",
              "  (1076, 0.6543658971786499),\n",
              "  (391, 0.6456440687179565),\n",
              "  (302, 0.6339237689971924),\n",
              "  (1226, 0.6325364112854004),\n",
              "  (1069, 0.6307309865951538),\n",
              "  (1130, 0.6291780471801758),\n",
              "  (1426, 0.627206563949585)],\n",
              " TaggedDocument(words=['the', 'trailer', 'of', 'long', 'delayed', 'rajini', 'murugan', 'was', 'released', 'on', 'thursday', 'december', 'to', 'coincide', 'with', 'the', 'new', 'year', 'celebrations', 'sony', 'music', 'the', 'official', 'audio', 'rights', 'holder', 'of', 'rajini', 'murugan', 'sivakarthikeyan', 'rajini', 'murugan', 'trailer', 'released', 'on', 'thursday', 'the', 'video', 'garners', 'positive', 'reviews', 'prakash', 'upadhyaya'], tags=[200]),\n",
              " TaggedDocument(words=['after', 'months', 'of', 'delay', 'american', 'network', 'carrier', 'mobile', 'released', 'the', 'android', 'marshmallow', 'update', 'to', 'series', 'flagship', 'phablets', 'galaxy', 'note', 'edge', 'and', 'note', 'in', 'the', 'the', 'new', 'update', 'with', 'baseband', 'versions', 'tuvu', 'dpe', 'or', 'uvu', 'dpe', 'and', 'tuvu', 'cpe', 'which', 'weigh', 'around', 'gb', 'are', 'being', 'deployed', 'to', 'the', 'galaxy', 'note', 'and', 'note', 'edge', 'respectively', 'via', 'over', 'the', 'air', 'ota', 'the', 'company', 'said', 'on', 'the', 'support', 'page', 'the', 'new', 'android', 'marshmallow', 'brings', 'the', 'doze', 'battery', 'optimisation', 'feature', 'improved', 'now', 'on', 'tap', 'search', 'option', 'support', 'for', 'more', 'international', 'dialects', 'silent', 'mode', 'to', 'the', 'sound', 'profile', 'do', 'not', 'disturb', 'option', 'performance', 'enhancing', 'optimisations', 'enhanced', 'boot', 'security', 'system', 'and', 'many', 'more', 'also', 'read', 'google', 'android', 'marshmallow', 'key', 'features', 'you', 'need', 'to', 'know', 'in', 'addition', 'to', 'the', 'marshmallow', 'features', 'samsung', 'devices', 'get', 'enhanced', 'touchwiz', 'ui', 'features', 'and', 'google', 'latest', 'june', 'security', 'updates', 'the', 'galaxy', 'note', 'will', 'also', 'receive', 'anti', 'theft', 'update', 'uvu', 'dpe', 'and', 'also', 'fix', 'for', 'google', 'voice', 'bug', 'tuvu', 'dpe', 'how', 'to', 'check', 'for', 'ota', 'update', 'on', 'samsung', 'phones', 'from', 'the', 'home', 'screen', 'tap', 'settings', 'scroll', 'down', 'to', 'system', 'and', 'then', 'tap', 'about', 'device', 'tap', 'download', 'updates', 'manually', 'tap', 'ok', 'tap', 'start', 'restart', 'message', 'will', 'appear', 'tap', 'ok', 'since', 'the', 'ota', 'update', 'is', 'carried', 'out', 'in', 'stages', 'it', 'will', 'take', 'couple', 'of', 'days', 'to', 'reach', 'all', 'corners', 'of', 'the', 'country', 'how', 'to', 'download', 'and', 'install', 'the', 'update', 'manually', 'on', 'samsung', 'phone', 'via', 'computer', 'make', 'sure', 'samsung', 'smart', 'switch', 'software', 'is', 'installed', 'on', 'computer', 'or', 'else', 'download', 'here', 'connect', 'the', 'cable', 'to', 'compatible', 'usb', 'port', 'on', 'your', 'computer', 'connect', 'the', 'other', 'end', 'of', 'the', 'cable', 'to', 'your', 'mobile', 'device', 'allow', 'your', 'computer', 'to', 'install', 'any', 'required', 'drivers', 'for', 'your', 'device', 'this', 'process', 'may', 'take', 'few', 'minutes', 'open', 'smart', 'switch', 'on', 'your', 'computer', 'and', 'allow', 'it', 'to', 'make', 'the', 'connection', 'if', 'software', 'update', 'is', 'available', 'for', 'your', 'device', 'smart', 'switch', 'will', 'automatically', 'prompt', 'you', 'to', 'update', 'at', 'any', 'time', 'you', 'can', 'click', 'update', 'click', 'update', 'to', 'begin', 'downloading', 'the', 'necessary', 'files', 'click', 'ok', 'to', 'proceed', 'your', 'device', 'may', 'turn', 'off', 'and', 'on', 'few', 'times', 'during', 'the', 'update', 'process', 'once', 'complete', 'the', 'device', 'will', 'return', 'to', 'the', 'home', 'screen', 'android', 'marshmallow', 'arrives', 'to', 'mobile', 'samsung', 'galaxy', 'note', 'note', 'edge', 'how', 'to', 'install', 'rohit', 'kvn'], tags=[1000]),\n",
              " TaggedDocument(words=['it', 'been', 'more', 'than', 'two', 'months', 'since', 'samsung', 'released', 'android', 'marshmallow', 'to', 'unlocked', 'galaxy', 'series', 'now', 'network', 'carrier', 'mobile', 'has', 'finally', 'commenced', 'rolling', 'out', 'the', 'new', 'os', 'update', 'to', 'the', 'flagship', 'in', 'the', 'beginning', 'may', 'the', 'samsung', 'galaxy', 'will', 'have', 'software', 'update', 'to', 'android', 'version', 'baseband', 'uvu', 'gpe', 'or', 'tuvu', 'gpe', 'mobile', 'said', 'on', 'the', 'official', 'software', 'page', 'the', 'new', 'update', 'which', 'is', 'little', 'over', 'gb', 'has', 'been', 'made', 'available', 'to', 'the', 'device', 'through', 'ota', 'over', 'the', 'air', 'and', 'can', 'also', 'be', 'downloaded', 'manually', 'via', 'pc', 'companion', 'suite', 'samsung', 'smart', 'switch', 'to', 'check', 'for', 'ota', 'over', 'the', 'air', 'update', 'notification', 'on', 'the', 'android', 'phone', 'go', 'to', 'settings', 'about', 'phone', 'system', 'updates', 'for', 'the', 'uninitiated', 'ota', 'process', 'is', 'carried', 'out', 'in', 'stages', 'so', 'it', 'may', 'take', 'week', 'or', 'more', 'to', 'reach', 'all', 'corners', 'of', 'the', 'country', 'if', 'patience', 'is', 'not', 'your', 'strongest', 'suit', 'then', 'users', 'can', 'download', 'from', 'pc', 'and', 'transfer', 'it', 'to', 'the', 'phone', 'how', 'to', 'manually', 'update', 'samsung', 'device', 'from', 'pc', 'the', 'new', 'android', 'comes', 'with', 'doze', 'improved', 'now', 'on', 'tap', 'search', 'option', 'support', 'for', 'more', 'international', 'dialects', 'silent', 'mode', 'to', 'the', 'sound', 'profile', 'do', 'not', 'disturb', 'option', 'performance', 'enhancing', 'optimisations', 'enhanced', 'boot', 'security', 'system', 'and', 'many', 'more', 'also', 'read', 'google', 'android', 'marshmallow', 'key', 'features', 'you', 'need', 'to', 'know', 'mobile', 'finally', 'rolls', 'outs', 'android', 'marshmallow', 'to', 'samsung', 'galaxy', 'how', 'to', 'install', 'rohit', 'kvn'], tags=[1012]),\n",
              " TaggedDocument(words=['preview', 'version', 'of', 'cyanogenmod', 'cm', 'series', 'custom', 'rom', 'has', 'been', 'made', 'available', 'to', 'the', 'flagship', 'phablet', 'galaxy', 'note', 'this', 'new', 'cyanogenmod', 'cm', 'firmware', 'is', 'based', 'on', 'the', 'android', 'latest', 'marshmallow', 'it', 'is', 'created', 'by', 'industrious', 'xda', 'developer', 'forum', 'recognised', 'programmers', 'gekkehenkie', 'and', 'fattire', 'read', 'more', 'google', 'android', 'marshmallow', 'key', 'features', 'you', 'need', 'to', 'know', 'that', 'said', 'we', 'like', 'remind', 'our', 'readers', 'that', 'this', 'custom', 'rom', 'is', 'an', 'experimental', 'version', 'so', 'there', 'are', 'some', 'bugs', 'in', 'it', 'galaxy', 'note', 'users', 'are', 'advised', 'to', 'exercise', 'some', 'caution', 'before', 'going', 'forward', 'with', 'the', 'firmware', 'installation', 'prerequisites', 'things', 'to', 'remember', 'before', 'installing', 'the', 'custom', 'rom', 'disclaimer', 'this', 'procedure', 'is', 'very', 'technical', 'and', 'should', 'be', 'performed', 'by', 'person', 'with', 'sound', 'knowledge', 'of', 'rooting', 'or', 'manual', 'software', 'installation', 'android', 'devices', 'if', 'the', 'step', 'by', 'step', 'installation', 'process', 'is', 'not', 'followed', 'properly', 'there', 'are', 'chances', 'of', 'the', 'smartphone', 'getting', 'bricked', 'or', 'being', 'permanently', 'irreparable', 'ibtimes', 'india', 'cannot', 'be', 'held', 'responsible', 'for', 'any', 'damage', 'or', 'claims', 'from', 'readers', 'if', 'the', 'procedure', 'does', 'not', 'yield', 'the', 'required', 'results', 'or', 'if', 'the', 'smartphone', 'is', 'bricked', 'hence', 'users', 'are', 'advised', 'to', 'proceed', 'with', 'caution', 'tutorial', 'step', 'by', 'step', 'installation', 'procedure', 'of', 'cyanogenmod', 'unofficial', 'cm', 'android', 'marshmallow', 'custom', 'rom', 'on', 'samsung', 'galaxy', 'note', 'lte', 'via', 'twrp', 'team', 'win', 'recovery', 'project', 'step', 'download', 'cyanogenmod', 'unofficial', 'cm', 'android', 'marshmallow', 'custom', 'rom', 'in', 'to', 'your', 'pc', 'scroll', 'to', 'find', 'the', 'downloadable', 'files', 'step', 'connect', 'galaxy', 'note', 'to', 'the', 'computer', 'step', 'place', 'the', 'cyanogenmod', 'cm', 'android', 'marshmallow', 'into', 'the', 'phone', 'storage', 'memory', 'note', 'users', 'are', 'advised', 'to', 'paste', 'the', 'zip', 'file', 'in', 'the', 'storage', 'root', 'folder', 'not', 'in', 'any', 'other', 'folder', 'step', 'turn', 'off', 'device', 'and', 'disconnect', 'it', 'from', 'pc', 'step', 'perform', 'recovery', 'mode', 'sorties', 'by', 'long', 'pressing', 'volume', 'down', 'power', 'buttons', 'step', 'once', 'entering', 'the', 'twrp', 'settings', 'menu', 'clear', 'phone', 'memory', 'full', 'by', 'selecting', 'wipe', 'option', 'once', 'done', 'select', 'swipe', 'to', 'factory', 'reset', 'perform', 'factory', 'reset', 'step', 'return', 'to', 'twrp', 'settings', 'and', 'tap', 'install', 'by', 'the', 'selecting', 'zip', 'file', 'in', 'the', 'phone', 'memory', 'downloaded', 'from', 'pc', 'step', 'come', 'back', 'to', 'twrp', 'menu', 'setting', 'to', 'approve', 'the', 'installation', 'by', 'tapping', 'swipe', 'to', 'confirm', 'flash', 'step', 'flashing', 'of', 'the', 'custom', 'rom', 'begins', 'and', 'after', 'few', 'minutes', 'message', 'successful', 'appears', 'on', 'the', 'screen', 'thus', 'completing', 'installation', 'step', 'if', 'faced', 'with', 'boot', 'loop', 'problem', 'navigate', 'back', 'to', 'twrp', 'settings', 'and', 'select', 'wipe', 'cache', 'dalvik', 'this', 'procedure', 'will', 'help', 'resolve', 'any', 'issue', 'with', 'regard', 'to', 'custom', 'rom', 'installation', 'downloadable', 'files', 'cyanogenmod', 'unofficial', 'cm', 'android', 'marshmallow', 'custom', 'rom', 'here', 'google', 'apps', 'here', 'blobs', 'binary', 'large', 'objects', 'here', 'usb', 'driver', 'here', 'note', 'if', 'faced', 'with', 'any', 'other', 'issues', 'please', 'drop', 'in', 'your', 'concerns', 'here', 'credits', 'xda', 'developer', 'forum', 'cyanogenmod', 'gekkehenkie', 'and', 'fattire', 'samsung', 'galaxy', 'note', 'gets', 'android', 'marshmallow', 'via', 'cyanogenmod', 'unofficial', 'cm', 'custom', 'rom', 'how', 'to', 'install', 'rohit', 'kvn'], tags=[961]),\n",
              " TaggedDocument(words=['the', 'much', 'awaited', 'android', 'marshmallow', 'ota', 'over', 'the', 'air', 'update', 'has', 'finally', 'come', 'to', 'the', 'at', 'variant', 'of', 'samsung', 'galaxy', 'and', 'galaxy', 'edge', 'weeks', 'after', 'the', 'unlocked', 'models', 'received', 'it', 'the', 'android', 'marshmallow', 'update', 'file', 'for', 'the', 'galaxy', 'and', 'galaxy', 'edge', 'weighs', 'gb', 'and', 'carries', 'the', 'build', 'number', 'of', 'mmb', 'aucu', 'cpd', 'according', 'to', 'at', 'community', 'forums', 'via', 'gsm', 'arena', 'the', 'update', 'has', 'brought', 'some', 'changes', 'including', 'adding', 'of', 'amazon', 'to', 'full', 'preload', 'and', 'inclusion', 'of', 'the', 'video', 'calling', 'feature', 'at', 'mail', 'and', 'yp', 'mobile', 'have', 'been', 'moved', 'to', 'virtual', 'preload', 'while', 'keeper', 'at', 'live', 'and', 'fb', 'messenger', 'have', 'been', 'removed', 'the', 'firmware', 'update', 'should', 'also', 'bring', 'features', 'like', 'doze', 'now', 'on', 'tap', 'runtime', 'permissions', 'and', 'google', 'now', 'on', 'tap', 'to', 'the', 'device', 'the', 'south', 'korean', 'technology', 'giant', 'has', 'released', 'the', 'android', 'marshmallow', 'update', 'to', 'several', 'of', 'its', 'flagship', 'devices', 'including', 'the', 'galaxy', 'galaxy', 'sport', 'galaxy', 'galaxy', 'note', 'galaxy', 'edge', 'galaxy', 'edge', 'galaxy', 'note', 'edge', 'and', 'galaxy', 'note', 'other', 'mid', 'range', 'and', 'high', 'end', 'devices', 'like', 'the', 'galaxy', 'tab', 'galaxy', 'alpha', 'galaxy', 'and', 'galaxy', 'are', 'also', 'expected', 'to', 'get', 'the', 'firmware', 'soon', 'how', 'to', 'install', 'android', 'marshmallow', 'via', 'ota', 'on', 'the', 'galaxy', 'and', 'edge', 'android', 'marshmallow', 'download', 'notification', 'will', 'appear', 'on', 'the', 'device', 'screen', 'press', 'download', 'button', 'press', 'restart', 'install', 'button', 'rebooting', 'will', 'begin', 'automatically', 'you', 'will', 'see', 'installing', 'system', 'update', 'notice', 'when', 'installation', 'starts', 'upgrading', 'begins', 'automatically', 'android', 'marshmallow', 'will', 'run', 'on', 'your', 'device', 'after', 'upgrading', 'is', 'done', 'you', 'can', 'also', 'manually', 'check', 'availability', 'of', 'the', 'new', 'software', 'by', 'going', 'to', 'settings', 'about', 'phone', 'system', 'updates', 'check', 'for', 'update', 'samsung', 'galaxy', 'edge', 'from', 'at', 'gets', 'android', 'marshmallow', 'update', 'how', 'to', 'install', 'raymond', 'ronamai'], tags=[1076]))"
            ]
          },
          "metadata": {
            "tags": []
          },
          "execution_count": 73
        }
      ]
    },
    {
      "metadata": {
        "id": "iJXf-l-IuZYX",
        "colab_type": "code",
        "colab": {
          "base_uri": "https://localhost:8080/",
          "height": 552
        },
        "outputId": "cf060af9-23b5-4369-f0fd-7533dc8a4b44"
      },
      "cell_type": "code",
      "source": [
        "sns.set_context(\"poster\")\n",
        "\n",
        "fig, ax = plt.subplots()\n",
        "ax.scatter(points['x'],points['y'], s = 5)\n",
        "\n",
        "ax.annotate('1000', (points['x'][1000],points['y'][1000]))\n",
        "\n",
        "ax.annotate('200', (points['x'][200],points['y'][200]))\n",
        "\n",
        "ax.annotate('1076', (points['x'][1076],points['y'][1076]))\n",
        "\n",
        "\n",
        "# Doc-Id 439 is more closer to doc-ID 500 since it has been given more weightage while combining them linearly as above."
      ],
      "execution_count": 70,
      "outputs": [
        {
          "output_type": "execute_result",
          "data": {
            "text/plain": [
              "Text(38.9766,-11.3721,'1076')"
            ]
          },
          "metadata": {
            "tags": []
          },
          "execution_count": 70
        },
        {
          "output_type": "display_data",
          "data": {
            "image/png": "[encoded data removed]",
            "text/plain": [
              "<matplotlib.figure.Figure at 0x7fc63c270860>"
            ]
          },
          "metadata": {
            "tags": []
          }
        }
      ]
    },
    {
      "metadata": {
        "id": "5edMNWvFJbmP",
        "colab_type": "text"
      },
      "cell_type": "markdown",
      "source": [
        "## Now creating User Profiles by creating  'User2vec' which would be a time-weighted average of doc2vec"
      ]
    },
    {
      "metadata": {
        "id": "Z42Ml6hXQraW",
        "colab_type": "code",
        "colab": {
          "base_uri": "https://localhost:8080/",
          "height": 359
        },
        "outputId": "d04f515a-d904-4261-8e9c-9572b636a5c4"
      },
      "cell_type": "code",
      "source": [
        "click_stream_data.head(10)"
      ],
      "execution_count": 71,
      "outputs": [
        {
          "output_type": "execute_result",
          "data": {
            "text/html": [
              "<div>\n",
              "<style scoped>\n",
              "    .dataframe tbody tr th:only-of-type {\n",
              "        vertical-align: middle;\n",
              "    }\n",
              "\n",
              "    .dataframe tbody tr th {\n",
              "        vertical-align: top;\n",
              "    }\n",
              "\n",
              "    .dataframe thead th {\n",
              "        text-align: right;\n",
              "    }\n",
              "</style>\n",
              "<table border=\"1\" class=\"dataframe\">\n",
              "  <thead>\n",
              "    <tr style=\"text-align: right;\">\n",
              "      <th></th>\n",
              "      <th>Unnamed: 0</th>\n",
              "      <th>UserId</th>\n",
              "      <th>SessionId</th>\n",
              "      <th>ArticleId_served</th>\n",
              "      <th>Click</th>\n",
              "      <th>Percentage Time Spent</th>\n",
              "      <th>optimal_time</th>\n",
              "      <th>Actual_time_spent</th>\n",
              "    </tr>\n",
              "  </thead>\n",
              "  <tbody>\n",
              "    <tr>\n",
              "      <th>0</th>\n",
              "      <td>0</td>\n",
              "      <td>1</td>\n",
              "      <td>1</td>\n",
              "      <td>2034</td>\n",
              "      <td>0</td>\n",
              "      <td>0</td>\n",
              "      <td>35.04</td>\n",
              "      <td>0.0000</td>\n",
              "    </tr>\n",
              "    <tr>\n",
              "      <th>1</th>\n",
              "      <td>1</td>\n",
              "      <td>1</td>\n",
              "      <td>1</td>\n",
              "      <td>2091</td>\n",
              "      <td>0</td>\n",
              "      <td>0</td>\n",
              "      <td>72.00</td>\n",
              "      <td>0.0000</td>\n",
              "    </tr>\n",
              "    <tr>\n",
              "      <th>2</th>\n",
              "      <td>2</td>\n",
              "      <td>1</td>\n",
              "      <td>1</td>\n",
              "      <td>3375</td>\n",
              "      <td>0</td>\n",
              "      <td>0</td>\n",
              "      <td>199.20</td>\n",
              "      <td>0.0000</td>\n",
              "    </tr>\n",
              "    <tr>\n",
              "      <th>3</th>\n",
              "      <td>3</td>\n",
              "      <td>1</td>\n",
              "      <td>1</td>\n",
              "      <td>1623</td>\n",
              "      <td>1</td>\n",
              "      <td>16</td>\n",
              "      <td>137.76</td>\n",
              "      <td>22.0416</td>\n",
              "    </tr>\n",
              "    <tr>\n",
              "      <th>4</th>\n",
              "      <td>4</td>\n",
              "      <td>1</td>\n",
              "      <td>1</td>\n",
              "      <td>1711</td>\n",
              "      <td>0</td>\n",
              "      <td>0</td>\n",
              "      <td>144.48</td>\n",
              "      <td>0.0000</td>\n",
              "    </tr>\n",
              "    <tr>\n",
              "      <th>5</th>\n",
              "      <td>5</td>\n",
              "      <td>1</td>\n",
              "      <td>1</td>\n",
              "      <td>3178</td>\n",
              "      <td>0</td>\n",
              "      <td>0</td>\n",
              "      <td>63.36</td>\n",
              "      <td>0.0000</td>\n",
              "    </tr>\n",
              "    <tr>\n",
              "      <th>6</th>\n",
              "      <td>6</td>\n",
              "      <td>1</td>\n",
              "      <td>1</td>\n",
              "      <td>3661</td>\n",
              "      <td>0</td>\n",
              "      <td>0</td>\n",
              "      <td>91.20</td>\n",
              "      <td>0.0000</td>\n",
              "    </tr>\n",
              "    <tr>\n",
              "      <th>7</th>\n",
              "      <td>7</td>\n",
              "      <td>1</td>\n",
              "      <td>1</td>\n",
              "      <td>3676</td>\n",
              "      <td>0</td>\n",
              "      <td>0</td>\n",
              "      <td>108.96</td>\n",
              "      <td>0.0000</td>\n",
              "    </tr>\n",
              "    <tr>\n",
              "      <th>8</th>\n",
              "      <td>8</td>\n",
              "      <td>1</td>\n",
              "      <td>1</td>\n",
              "      <td>589</td>\n",
              "      <td>0</td>\n",
              "      <td>0</td>\n",
              "      <td>60.96</td>\n",
              "      <td>0.0000</td>\n",
              "    </tr>\n",
              "    <tr>\n",
              "      <th>9</th>\n",
              "      <td>9</td>\n",
              "      <td>1</td>\n",
              "      <td>1</td>\n",
              "      <td>3310</td>\n",
              "      <td>0</td>\n",
              "      <td>0</td>\n",
              "      <td>140.64</td>\n",
              "      <td>0.0000</td>\n",
              "    </tr>\n",
              "  </tbody>\n",
              "</table>\n",
              "</div>"
            ],
            "text/plain": [
              "   Unnamed: 0  UserId  SessionId  ArticleId_served  Click  \\\n",
              "0           0       1          1              2034      0   \n",
              "1           1       1          1              2091      0   \n",
              "2           2       1          1              3375      0   \n",
              "3           3       1          1              1623      1   \n",
              "4           4       1          1              1711      0   \n",
              "5           5       1          1              3178      0   \n",
              "6           6       1          1              3661      0   \n",
              "7           7       1          1              3676      0   \n",
              "8           8       1          1               589      0   \n",
              "9           9       1          1              3310      0   \n",
              "\n",
              "   Percentage Time Spent  optimal_time  Actual_time_spent  \n",
              "0                      0         35.04             0.0000  \n",
              "1                      0         72.00             0.0000  \n",
              "2                      0        199.20             0.0000  \n",
              "3                     16        137.76            22.0416  \n",
              "4                      0        144.48             0.0000  \n",
              "5                      0         63.36             0.0000  \n",
              "6                      0         91.20             0.0000  \n",
              "7                      0        108.96             0.0000  \n",
              "8                      0         60.96             0.0000  \n",
              "9                      0        140.64             0.0000  "
            ]
          },
          "metadata": {
            "tags": []
          },
          "execution_count": 71
        }
      ]
    },
    {
      "metadata": {
        "id": "sohwDSqxCl1M",
        "colab_type": "code",
        "colab": {
          "base_uri": "https://localhost:8080/",
          "height": 34
        },
        "outputId": "2460d32a-957f-4f20-c7d4-a76fc3ae66ae"
      },
      "cell_type": "code",
      "source": [
        "article2vec = []\n",
        "for i in list(click_stream_data['ArticleId_served']):\n",
        "  article2vec.append(model.docvecs[i])\n",
        "  \n",
        "len(article2vec)  "
      ],
      "execution_count": 74,
      "outputs": [
        {
          "output_type": "execute_result",
          "data": {
            "text/plain": [
              "80060"
            ]
          },
          "metadata": {
            "tags": []
          },
          "execution_count": 74
        }
      ]
    },
    {
      "metadata": {
        "id": "pEykZUpCDOMC",
        "colab_type": "code",
        "colab": {
          "base_uri": "https://localhost:8080/",
          "height": 306
        },
        "outputId": "70c31e4d-c311-4a57-f665-2f4d8433c4f5"
      },
      "cell_type": "code",
      "source": [
        "click_stream_data['Article2vec'] = article2vec\n",
        "\n",
        "click_stream_data.head()"
      ],
      "execution_count": 75,
      "outputs": [
        {
          "output_type": "execute_result",
          "data": {
            "text/html": [
              "<div>\n",
              "<style scoped>\n",
              "    .dataframe tbody tr th:only-of-type {\n",
              "        vertical-align: middle;\n",
              "    }\n",
              "\n",
              "    .dataframe tbody tr th {\n",
              "        vertical-align: top;\n",
              "    }\n",
              "\n",
              "    .dataframe thead th {\n",
              "        text-align: right;\n",
              "    }\n",
              "</style>\n",
              "<table border=\"1\" class=\"dataframe\">\n",
              "  <thead>\n",
              "    <tr style=\"text-align: right;\">\n",
              "      <th></th>\n",
              "      <th>Unnamed: 0</th>\n",
              "      <th>UserId</th>\n",
              "      <th>SessionId</th>\n",
              "      <th>ArticleId_served</th>\n",
              "      <th>Click</th>\n",
              "      <th>Percentage Time Spent</th>\n",
              "      <th>optimal_time</th>\n",
              "      <th>Actual_time_spent</th>\n",
              "      <th>Article2vec</th>\n",
              "    </tr>\n",
              "  </thead>\n",
              "  <tbody>\n",
              "    <tr>\n",
              "      <th>0</th>\n",
              "      <td>0</td>\n",
              "      <td>1</td>\n",
              "      <td>1</td>\n",
              "      <td>2034</td>\n",
              "      <td>0</td>\n",
              "      <td>0</td>\n",
              "      <td>35.04</td>\n",
              "      <td>0.0000</td>\n",
              "      <td>[-0.9389837, 1.1480346, -1.1359936, 1.4685382,...</td>\n",
              "    </tr>\n",
              "    <tr>\n",
              "      <th>1</th>\n",
              "      <td>1</td>\n",
              "      <td>1</td>\n",
              "      <td>1</td>\n",
              "      <td>2091</td>\n",
              "      <td>0</td>\n",
              "      <td>0</td>\n",
              "      <td>72.00</td>\n",
              "      <td>0.0000</td>\n",
              "      <td>[2.1679804, 0.491248, 3.346303, -2.371358, -1....</td>\n",
              "    </tr>\n",
              "    <tr>\n",
              "      <th>2</th>\n",
              "      <td>2</td>\n",
              "      <td>1</td>\n",
              "      <td>1</td>\n",
              "      <td>3375</td>\n",
              "      <td>0</td>\n",
              "      <td>0</td>\n",
              "      <td>199.20</td>\n",
              "      <td>0.0000</td>\n",
              "      <td>[-2.458731, 0.8904928, -1.7483199, -2.2864459,...</td>\n",
              "    </tr>\n",
              "    <tr>\n",
              "      <th>3</th>\n",
              "      <td>3</td>\n",
              "      <td>1</td>\n",
              "      <td>1</td>\n",
              "      <td>1623</td>\n",
              "      <td>1</td>\n",
              "      <td>16</td>\n",
              "      <td>137.76</td>\n",
              "      <td>22.0416</td>\n",
              "      <td>[-2.8787978, 4.570846, -0.21314676, -0.0704924...</td>\n",
              "    </tr>\n",
              "    <tr>\n",
              "      <th>4</th>\n",
              "      <td>4</td>\n",
              "      <td>1</td>\n",
              "      <td>1</td>\n",
              "      <td>1711</td>\n",
              "      <td>0</td>\n",
              "      <td>0</td>\n",
              "      <td>144.48</td>\n",
              "      <td>0.0000</td>\n",
              "      <td>[-0.18803371, 4.0596147, 0.24285765, 1.0559925...</td>\n",
              "    </tr>\n",
              "  </tbody>\n",
              "</table>\n",
              "</div>"
            ],
            "text/plain": [
              "   Unnamed: 0  UserId  SessionId  ArticleId_served  Click  \\\n",
              "0           0       1          1              2034      0   \n",
              "1           1       1          1              2091      0   \n",
              "2           2       1          1              3375      0   \n",
              "3           3       1          1              1623      1   \n",
              "4           4       1          1              1711      0   \n",
              "\n",
              "   Percentage Time Spent  optimal_time  Actual_time_spent  \\\n",
              "0                      0         35.04             0.0000   \n",
              "1                      0         72.00             0.0000   \n",
              "2                      0        199.20             0.0000   \n",
              "3                     16        137.76            22.0416   \n",
              "4                      0        144.48             0.0000   \n",
              "\n",
              "                                         Article2vec  \n",
              "0  [-0.9389837, 1.1480346, -1.1359936, 1.4685382,...  \n",
              "1  [2.1679804, 0.491248, 3.346303, -2.371358, -1....  \n",
              "2  [-2.458731, 0.8904928, -1.7483199, -2.2864459,...  \n",
              "3  [-2.8787978, 4.570846, -0.21314676, -0.0704924...  \n",
              "4  [-0.18803371, 4.0596147, 0.24285765, 1.0559925...  "
            ]
          },
          "metadata": {
            "tags": []
          },
          "execution_count": 75
        }
      ]
    },
    {
      "metadata": {
        "id": "GBI4M-kSFi9F",
        "colab_type": "code",
        "colab": {
          "base_uri": "https://localhost:8080/",
          "height": 357
        },
        "outputId": "cd9a8f6a-6eea-4081-c631-0b6830c5bd6e"
      },
      "cell_type": "code",
      "source": [
        "click_stream_data['User_scaled_article2vec'] = (click_stream_data['Percentage Time Spent']/100)*click_stream_data['Article2vec']\n",
        "\n",
        "click_stream_data.head(5)"
      ],
      "execution_count": 76,
      "outputs": [
        {
          "output_type": "execute_result",
          "data": {
            "text/html": [
              "<div>\n",
              "<style scoped>\n",
              "    .dataframe tbody tr th:only-of-type {\n",
              "        vertical-align: middle;\n",
              "    }\n",
              "\n",
              "    .dataframe tbody tr th {\n",
              "        vertical-align: top;\n",
              "    }\n",
              "\n",
              "    .dataframe thead th {\n",
              "        text-align: right;\n",
              "    }\n",
              "</style>\n",
              "<table border=\"1\" class=\"dataframe\">\n",
              "  <thead>\n",
              "    <tr style=\"text-align: right;\">\n",
              "      <th></th>\n",
              "      <th>Unnamed: 0</th>\n",
              "      <th>UserId</th>\n",
              "      <th>SessionId</th>\n",
              "      <th>ArticleId_served</th>\n",
              "      <th>Click</th>\n",
              "      <th>Percentage Time Spent</th>\n",
              "      <th>optimal_time</th>\n",
              "      <th>Actual_time_spent</th>\n",
              "      <th>Article2vec</th>\n",
              "      <th>User_scaled_article2vec</th>\n",
              "    </tr>\n",
              "  </thead>\n",
              "  <tbody>\n",
              "    <tr>\n",
              "      <th>0</th>\n",
              "      <td>0</td>\n",
              "      <td>1</td>\n",
              "      <td>1</td>\n",
              "      <td>2034</td>\n",
              "      <td>0</td>\n",
              "      <td>0</td>\n",
              "      <td>35.04</td>\n",
              "      <td>0.0000</td>\n",
              "      <td>[-0.9389837, 1.1480346, -1.1359936, 1.4685382,...</td>\n",
              "      <td>[-0.0, 0.0, -0.0, 0.0, -0.0, 0.0, -0.0, 0.0, -...</td>\n",
              "    </tr>\n",
              "    <tr>\n",
              "      <th>1</th>\n",
              "      <td>1</td>\n",
              "      <td>1</td>\n",
              "      <td>1</td>\n",
              "      <td>2091</td>\n",
              "      <td>0</td>\n",
              "      <td>0</td>\n",
              "      <td>72.00</td>\n",
              "      <td>0.0000</td>\n",
              "      <td>[2.1679804, 0.491248, 3.346303, -2.371358, -1....</td>\n",
              "      <td>[0.0, 0.0, 0.0, -0.0, -0.0, -0.0, 0.0, 0.0, -0...</td>\n",
              "    </tr>\n",
              "    <tr>\n",
              "      <th>2</th>\n",
              "      <td>2</td>\n",
              "      <td>1</td>\n",
              "      <td>1</td>\n",
              "      <td>3375</td>\n",
              "      <td>0</td>\n",
              "      <td>0</td>\n",
              "      <td>199.20</td>\n",
              "      <td>0.0000</td>\n",
              "      <td>[-2.458731, 0.8904928, -1.7483199, -2.2864459,...</td>\n",
              "      <td>[-0.0, 0.0, -0.0, -0.0, -0.0, 0.0, -0.0, -0.0,...</td>\n",
              "    </tr>\n",
              "    <tr>\n",
              "      <th>3</th>\n",
              "      <td>3</td>\n",
              "      <td>1</td>\n",
              "      <td>1</td>\n",
              "      <td>1623</td>\n",
              "      <td>1</td>\n",
              "      <td>16</td>\n",
              "      <td>137.76</td>\n",
              "      <td>22.0416</td>\n",
              "      <td>[-2.8787978, 4.570846, -0.21314676, -0.0704924...</td>\n",
              "      <td>[-0.46060762, 0.73133534, -0.03410348, -0.0112...</td>\n",
              "    </tr>\n",
              "    <tr>\n",
              "      <th>4</th>\n",
              "      <td>4</td>\n",
              "      <td>1</td>\n",
              "      <td>1</td>\n",
              "      <td>1711</td>\n",
              "      <td>0</td>\n",
              "      <td>0</td>\n",
              "      <td>144.48</td>\n",
              "      <td>0.0000</td>\n",
              "      <td>[-0.18803371, 4.0596147, 0.24285765, 1.0559925...</td>\n",
              "      <td>[-0.0, 0.0, 0.0, 0.0, 0.0, 0.0, -0.0, -0.0, -0...</td>\n",
              "    </tr>\n",
              "  </tbody>\n",
              "</table>\n",
              "</div>"
            ],
            "text/plain": [
              "   Unnamed: 0  UserId  SessionId  ArticleId_served  Click  \\\n",
              "0           0       1          1              2034      0   \n",
              "1           1       1          1              2091      0   \n",
              "2           2       1          1              3375      0   \n",
              "3           3       1          1              1623      1   \n",
              "4           4       1          1              1711      0   \n",
              "\n",
              "   Percentage Time Spent  optimal_time  Actual_time_spent  \\\n",
              "0                      0         35.04             0.0000   \n",
              "1                      0         72.00             0.0000   \n",
              "2                      0        199.20             0.0000   \n",
              "3                     16        137.76            22.0416   \n",
              "4                      0        144.48             0.0000   \n",
              "\n",
              "                                         Article2vec  \\\n",
              "0  [-0.9389837, 1.1480346, -1.1359936, 1.4685382,...   \n",
              "1  [2.1679804, 0.491248, 3.346303, -2.371358, -1....   \n",
              "2  [-2.458731, 0.8904928, -1.7483199, -2.2864459,...   \n",
              "3  [-2.8787978, 4.570846, -0.21314676, -0.0704924...   \n",
              "4  [-0.18803371, 4.0596147, 0.24285765, 1.0559925...   \n",
              "\n",
              "                             User_scaled_article2vec  \n",
              "0  [-0.0, 0.0, -0.0, 0.0, -0.0, 0.0, -0.0, 0.0, -...  \n",
              "1  [0.0, 0.0, 0.0, -0.0, -0.0, -0.0, 0.0, 0.0, -0...  \n",
              "2  [-0.0, 0.0, -0.0, -0.0, -0.0, 0.0, -0.0, -0.0,...  \n",
              "3  [-0.46060762, 0.73133534, -0.03410348, -0.0112...  \n",
              "4  [-0.0, 0.0, 0.0, 0.0, 0.0, 0.0, -0.0, -0.0, -0...  "
            ]
          },
          "metadata": {
            "tags": []
          },
          "execution_count": 76
        }
      ]
    },
    {
      "metadata": {
        "id": "KS96C6oqQrX0",
        "colab_type": "code",
        "colab": {}
      },
      "cell_type": "code",
      "source": [
        "user2vec_list = list(click_stream_data.groupby('UserId')['User_scaled_article2vec'])   # list of tuples"
      ],
      "execution_count": 0,
      "outputs": []
    },
    {
      "metadata": {
        "id": "H_1oM3T4wVyk",
        "colab_type": "code",
        "colab": {}
      },
      "cell_type": "code",
      "source": [
        "user2vec_num = list(click_stream_data.groupby('UserId')['Click'].sum())  # Capturing total number of articles clicked by every user"
      ],
      "execution_count": 0,
      "outputs": []
    },
    {
      "metadata": {
        "id": "etl6kZUl2uPp",
        "colab_type": "code",
        "colab": {
          "base_uri": "https://localhost:8080/",
          "height": 34
        },
        "outputId": "c193294f-8610-404e-d706-0a365e6373f4"
      },
      "cell_type": "code",
      "source": [
        "len(user2vec_num),len(user2vec_list)"
      ],
      "execution_count": 79,
      "outputs": [
        {
          "output_type": "execute_result",
          "data": {
            "text/plain": [
              "(3999, 3999)"
            ]
          },
          "metadata": {
            "tags": []
          },
          "execution_count": 79
        }
      ]
    },
    {
      "metadata": {
        "id": "5si459viQrSP",
        "colab_type": "code",
        "colab": {
          "base_uri": "https://localhost:8080/",
          "height": 34
        },
        "outputId": "35bab224-2e27-44b7-c655-6bf9e09e6284"
      },
      "cell_type": "code",
      "source": [
        "user2vec = np.array(user2vec_list)\n",
        "user2vec.shape\n"
      ],
      "execution_count": 80,
      "outputs": [
        {
          "output_type": "execute_result",
          "data": {
            "text/plain": [
              "(3999, 2)"
            ]
          },
          "metadata": {
            "tags": []
          },
          "execution_count": 80
        }
      ]
    },
    {
      "metadata": {
        "id": "Hvbm9uthX6Vu",
        "colab_type": "code",
        "colab": {}
      },
      "cell_type": "code",
      "source": [
        "uservec_dict = {}\n",
        "\n",
        "for i in range(3999):\n",
        "  uservec_dict[i+1] = user2vec[i][1].sum()/user2vec_num[i]\n",
        "  "
      ],
      "execution_count": 0,
      "outputs": []
    },
    {
      "metadata": {
        "id": "MFOW_We_Ibt1",
        "colab_type": "code",
        "colab": {
          "base_uri": "https://localhost:8080/",
          "height": 34
        },
        "outputId": "c3db11a2-ec89-480a-8b51-3030d10c3312"
      },
      "cell_type": "code",
      "source": [
        "uservec_dict[1].shape"
      ],
      "execution_count": 82,
      "outputs": [
        {
          "output_type": "execute_result",
          "data": {
            "text/plain": [
              "(100,)"
            ]
          },
          "metadata": {
            "tags": []
          },
          "execution_count": 82
        }
      ]
    },
    {
      "metadata": {
        "id": "CbDU8zk2Y5O5",
        "colab_type": "code",
        "colab": {}
      },
      "cell_type": "code",
      "source": [
        "uservec_dict   #contains user-vector corresponding to each user-Id (i.e User-Profile)"
      ],
      "execution_count": 0,
      "outputs": []
    },
    {
      "metadata": {
        "id": "RRSmtTEwIvHZ",
        "colab_type": "code",
        "colab": {}
      },
      "cell_type": "code",
      "source": [
        "uservec_df = pd.DataFrame(uservec_dict).T"
      ],
      "execution_count": 0,
      "outputs": []
    },
    {
      "metadata": {
        "id": "cC-mmuwWIvME",
        "colab_type": "code",
        "colab": {
          "base_uri": "https://localhost:8080/",
          "height": 253
        },
        "outputId": "1b1e5c61-582a-4a65-f020-ce749dfc41ce"
      },
      "cell_type": "code",
      "source": [
        "uservec_df.head()"
      ],
      "execution_count": 243,
      "outputs": [
        {
          "output_type": "execute_result",
          "data": {
            "text/html": [
              "<div>\n",
              "<style scoped>\n",
              "    .dataframe tbody tr th:only-of-type {\n",
              "        vertical-align: middle;\n",
              "    }\n",
              "\n",
              "    .dataframe tbody tr th {\n",
              "        vertical-align: top;\n",
              "    }\n",
              "\n",
              "    .dataframe thead th {\n",
              "        text-align: right;\n",
              "    }\n",
              "</style>\n",
              "<table border=\"1\" class=\"dataframe\">\n",
              "  <thead>\n",
              "    <tr style=\"text-align: right;\">\n",
              "      <th></th>\n",
              "      <th>0</th>\n",
              "      <th>1</th>\n",
              "      <th>2</th>\n",
              "      <th>3</th>\n",
              "      <th>4</th>\n",
              "      <th>5</th>\n",
              "      <th>6</th>\n",
              "      <th>7</th>\n",
              "      <th>8</th>\n",
              "      <th>9</th>\n",
              "      <th>...</th>\n",
              "      <th>40</th>\n",
              "      <th>41</th>\n",
              "      <th>42</th>\n",
              "      <th>43</th>\n",
              "      <th>44</th>\n",
              "      <th>45</th>\n",
              "      <th>46</th>\n",
              "      <th>47</th>\n",
              "      <th>48</th>\n",
              "      <th>49</th>\n",
              "    </tr>\n",
              "  </thead>\n",
              "  <tbody>\n",
              "    <tr>\n",
              "      <th>1</th>\n",
              "      <td>-0.096163</td>\n",
              "      <td>-2.795915</td>\n",
              "      <td>-0.078723</td>\n",
              "      <td>0.799430</td>\n",
              "      <td>-1.156613</td>\n",
              "      <td>1.726739</td>\n",
              "      <td>-0.745519</td>\n",
              "      <td>1.518635</td>\n",
              "      <td>1.669219</td>\n",
              "      <td>-0.726670</td>\n",
              "      <td>...</td>\n",
              "      <td>-0.899128</td>\n",
              "      <td>0.159879</td>\n",
              "      <td>-0.524640</td>\n",
              "      <td>1.723419</td>\n",
              "      <td>-0.384417</td>\n",
              "      <td>2.166168</td>\n",
              "      <td>0.441083</td>\n",
              "      <td>0.610752</td>\n",
              "      <td>-0.463649</td>\n",
              "      <td>-1.315497</td>\n",
              "    </tr>\n",
              "    <tr>\n",
              "      <th>2</th>\n",
              "      <td>-0.000076</td>\n",
              "      <td>-0.326357</td>\n",
              "      <td>0.049398</td>\n",
              "      <td>0.118400</td>\n",
              "      <td>0.255423</td>\n",
              "      <td>0.227098</td>\n",
              "      <td>0.390911</td>\n",
              "      <td>0.486147</td>\n",
              "      <td>0.178624</td>\n",
              "      <td>-0.148716</td>\n",
              "      <td>...</td>\n",
              "      <td>0.282608</td>\n",
              "      <td>-0.176759</td>\n",
              "      <td>0.368488</td>\n",
              "      <td>-0.279192</td>\n",
              "      <td>-0.188699</td>\n",
              "      <td>0.105571</td>\n",
              "      <td>0.273467</td>\n",
              "      <td>0.037707</td>\n",
              "      <td>0.293946</td>\n",
              "      <td>-0.235592</td>\n",
              "    </tr>\n",
              "    <tr>\n",
              "      <th>3</th>\n",
              "      <td>-0.020771</td>\n",
              "      <td>-0.150065</td>\n",
              "      <td>0.155649</td>\n",
              "      <td>0.202356</td>\n",
              "      <td>-0.077157</td>\n",
              "      <td>0.280772</td>\n",
              "      <td>0.030675</td>\n",
              "      <td>0.128646</td>\n",
              "      <td>0.043125</td>\n",
              "      <td>-0.199532</td>\n",
              "      <td>...</td>\n",
              "      <td>0.105900</td>\n",
              "      <td>-0.012500</td>\n",
              "      <td>-0.144561</td>\n",
              "      <td>0.051766</td>\n",
              "      <td>-0.163330</td>\n",
              "      <td>0.207444</td>\n",
              "      <td>0.107777</td>\n",
              "      <td>0.148238</td>\n",
              "      <td>0.021424</td>\n",
              "      <td>-0.219152</td>\n",
              "    </tr>\n",
              "    <tr>\n",
              "      <th>4</th>\n",
              "      <td>-0.062098</td>\n",
              "      <td>-0.216515</td>\n",
              "      <td>0.151208</td>\n",
              "      <td>0.089352</td>\n",
              "      <td>0.087441</td>\n",
              "      <td>0.380781</td>\n",
              "      <td>0.226064</td>\n",
              "      <td>0.150953</td>\n",
              "      <td>0.112259</td>\n",
              "      <td>0.066563</td>\n",
              "      <td>...</td>\n",
              "      <td>-0.080641</td>\n",
              "      <td>0.015425</td>\n",
              "      <td>-0.076561</td>\n",
              "      <td>0.143611</td>\n",
              "      <td>-0.388634</td>\n",
              "      <td>0.302794</td>\n",
              "      <td>0.123232</td>\n",
              "      <td>0.141027</td>\n",
              "      <td>-0.007277</td>\n",
              "      <td>-0.144744</td>\n",
              "    </tr>\n",
              "    <tr>\n",
              "      <th>5</th>\n",
              "      <td>-0.225969</td>\n",
              "      <td>-0.065042</td>\n",
              "      <td>-0.241676</td>\n",
              "      <td>0.515270</td>\n",
              "      <td>-0.060086</td>\n",
              "      <td>0.093484</td>\n",
              "      <td>0.226224</td>\n",
              "      <td>0.632219</td>\n",
              "      <td>-0.047127</td>\n",
              "      <td>-0.089162</td>\n",
              "      <td>...</td>\n",
              "      <td>0.368766</td>\n",
              "      <td>0.360326</td>\n",
              "      <td>-0.005407</td>\n",
              "      <td>-0.248168</td>\n",
              "      <td>-0.298048</td>\n",
              "      <td>0.338560</td>\n",
              "      <td>0.064496</td>\n",
              "      <td>-0.136712</td>\n",
              "      <td>0.115054</td>\n",
              "      <td>-0.136216</td>\n",
              "    </tr>\n",
              "  </tbody>\n",
              "</table>\n",
              "<p>5 rows × 50 columns</p>\n",
              "</div>"
            ],
            "text/plain": [
              "         0         1         2         3         4         5         6   \\\n",
              "1 -0.096163 -2.795915 -0.078723  0.799430 -1.156613  1.726739 -0.745519   \n",
              "2 -0.000076 -0.326357  0.049398  0.118400  0.255423  0.227098  0.390911   \n",
              "3 -0.020771 -0.150065  0.155649  0.202356 -0.077157  0.280772  0.030675   \n",
              "4 -0.062098 -0.216515  0.151208  0.089352  0.087441  0.380781  0.226064   \n",
              "5 -0.225969 -0.065042 -0.241676  0.515270 -0.060086  0.093484  0.226224   \n",
              "\n",
              "         7         8         9     ...           40        41        42  \\\n",
              "1  1.518635  1.669219 -0.726670    ...    -0.899128  0.159879 -0.524640   \n",
              "2  0.486147  0.178624 -0.148716    ...     0.282608 -0.176759  0.368488   \n",
              "3  0.128646  0.043125 -0.199532    ...     0.105900 -0.012500 -0.144561   \n",
              "4  0.150953  0.112259  0.066563    ...    -0.080641  0.015425 -0.076561   \n",
              "5  0.632219 -0.047127 -0.089162    ...     0.368766  0.360326 -0.005407   \n",
              "\n",
              "         43        44        45        46        47        48        49  \n",
              "1  1.723419 -0.384417  2.166168  0.441083  0.610752 -0.463649 -1.315497  \n",
              "2 -0.279192 -0.188699  0.105571  0.273467  0.037707  0.293946 -0.235592  \n",
              "3  0.051766 -0.163330  0.207444  0.107777  0.148238  0.021424 -0.219152  \n",
              "4  0.143611 -0.388634  0.302794  0.123232  0.141027 -0.007277 -0.144744  \n",
              "5 -0.248168 -0.298048  0.338560  0.064496 -0.136712  0.115054 -0.136216  \n",
              "\n",
              "[5 rows x 50 columns]"
            ]
          },
          "metadata": {
            "tags": []
          },
          "execution_count": 243
        }
      ]
    },
    {
      "metadata": {
        "id": "tc2Xm1B_RlH5",
        "colab_type": "text"
      },
      "cell_type": "markdown",
      "source": [
        "## Computing user-user similarity matrix using cosine-similarity "
      ]
    },
    {
      "metadata": {
        "id": "eEZjQ7AxIvZF",
        "colab_type": "code",
        "colab": {}
      },
      "cell_type": "code",
      "source": [
        "from sklearn.metrics.pairwise import cosine_similarity\n",
        "\n",
        "user_sim = cosine_similarity(uservec_df)"
      ],
      "execution_count": 0,
      "outputs": []
    },
    {
      "metadata": {
        "id": "GeuSRqY4eEZH",
        "colab_type": "code",
        "colab": {
          "base_uri": "https://localhost:8080/",
          "height": 34
        },
        "outputId": "9048a9b2-900c-4341-d63c-a563ae0bca56"
      },
      "cell_type": "code",
      "source": [
        "type(user_sim)"
      ],
      "execution_count": 223,
      "outputs": [
        {
          "output_type": "execute_result",
          "data": {
            "text/plain": [
              "numpy.ndarray"
            ]
          },
          "metadata": {
            "tags": []
          },
          "execution_count": 223
        }
      ]
    },
    {
      "metadata": {
        "id": "5QonNdBURv5V",
        "colab_type": "text"
      },
      "cell_type": "markdown",
      "source": [
        "## Plotting the user-user similarity matrix for first 50 users"
      ]
    },
    {
      "metadata": {
        "id": "3a2PeCsc_e8w",
        "colab_type": "code",
        "colab": {
          "base_uri": "https://localhost:8080/",
          "height": 852
        },
        "outputId": "744d5a44-29fd-4fff-dad2-5d14b58bcbd9"
      },
      "cell_type": "code",
      "source": [
        "from matplotlib import cm as cm\n",
        "\n",
        "# cmap = cm.get_cmap('Greens')\n",
        "cmap = cm.get_cmap('YlGnBu')\n",
        "# cmap = cm.get_cmap('RdYlGn')\n",
        "\n",
        "\n",
        "ig, ax = plt.subplots(figsize=(15,15))\n",
        "cax = ax.matshow(user_sim[0:50,0:50], interpolation='nearest', cmap = cmap)\n",
        "ax.grid(True)\n",
        "plt.title('User-User similarity matrix for first 50 users')\n",
        "# plt.xticks(range(70),, rotation=90);\n",
        "# plt.yticks(range(70));\n",
        "ig.colorbar(cax, ticks=[0.1, 0.2, 0.3, 0.4, 0.5, 0.6, 0.7, .75,.8,.85,.90,.95,1])\n",
        "plt.show()\n",
        "\n",
        "\n",
        "\n",
        " \n",
        "\n",
        " \n",
        "\n"
      ],
      "execution_count": 244,
      "outputs": [
        {
          "output_type": "display_data",
          "data": {
            "image/png": "[encoded data removed]",
            "text/plain": [
              "<matplotlib.figure.Figure at 0x7f4cb59c0438>"
            ]
          },
          "metadata": {
            "tags": []
          }
        }
      ]
    },
    {
      "metadata": {
        "id": "HWr1OAsGF7Na",
        "colab_type": "text"
      },
      "cell_type": "markdown",
      "source": [
        "# Recommendation by k-nearest items \n",
        "* The knearest items approach is inspired from traditional\n",
        "content-based filtering recommendation method. \n",
        "* For the recommendation the similarity\n",
        "between the target user and the items are calculated and the\n",
        "items that are more similar to the target user are listed as\n",
        "the recommendation."
      ]
    },
    {
      "metadata": {
        "id": "tC5hOt3dH--L",
        "colab_type": "code",
        "colab": {}
      },
      "cell_type": "code",
      "source": [
        "def cos_matrix_multiplication(matrix, vector):\n",
        "    \"\"\"\n",
        "    Calculating pairwise cosine distance using matrix vector multiplication.\n",
        "    \"\"\"\n",
        "    dotted = matrix.dot(vector)\n",
        "    matrix_norms = np.linalg.norm(matrix, axis=1)\n",
        "    vector_norm = np.linalg.norm(vector)\n",
        "    matrix_vector_norms = np.multiply(matrix_norms, vector_norm)\n",
        "    neighbors = np.divide(dotted, matrix_vector_norms)\n",
        "    return neighbors\n",
        "  "
      ],
      "execution_count": 0,
      "outputs": []
    },
    {
      "metadata": {
        "id": "T_3JvsI3eMz2",
        "colab_type": "code",
        "colab": {}
      },
      "cell_type": "code",
      "source": [
        "def k_nearest_items(user , k):\n",
        "  \"\"\"\n",
        "  Finds out 'K' most similar documents for 'userId', returning dictionary of Document Ids and the cosine-similarity scores \n",
        "  \"\"\"\n",
        "#   print(type(user))\n",
        "  if type(user) == int:\n",
        "    \n",
        "    user_doc_similarity = list(cos_matrix_multiplication(all_doc_vectors_matrix, uservec_dict[user]))\n",
        "    \n",
        "  else :\n",
        "    user_doc_similarity = list(cos_matrix_multiplication(all_doc_vectors_matrix, user))\n",
        "    \n",
        "  doc_Id = [i for i in range(4831)]\n",
        "  user_doc_sim_dict = {}\n",
        "  for i in range(len(doc_Id)):\n",
        "      user_doc_sim_dict[doc_Id[i]] = user_doc_similarity[i]\n",
        "      \n",
        "      \n",
        "  sorted_dict = sorted(user_doc_sim_dict.items(), key=lambda x: x[1], reverse = True)\n",
        "  \n",
        "  return sorted_dict[:int(k)]"
      ],
      "execution_count": 0,
      "outputs": []
    },
    {
      "metadata": {
        "id": "4896HNi-9ruQ",
        "colab_type": "code",
        "colab": {
          "base_uri": "https://localhost:8080/",
          "height": 187
        },
        "outputId": "38c19194-5804-466c-e029-e168041a95a2"
      },
      "cell_type": "code",
      "source": [
        "k_nearest_items(2000, k = 10)  #Either provide 'userId' or the 'User vector'"
      ],
      "execution_count": 247,
      "outputs": [
        {
          "output_type": "execute_result",
          "data": {
            "text/plain": [
              "[(3445, 0.94608754),\n",
              " (743, 0.7185855),\n",
              " (561, 0.71451056),\n",
              " (4158, 0.6828359),\n",
              " (1049, 0.6779811),\n",
              " (361, 0.64898795),\n",
              " (600, 0.6488404),\n",
              " (3603, 0.6446006),\n",
              " (427, 0.6429965),\n",
              " (58, 0.63969755)]"
            ]
          },
          "metadata": {
            "tags": []
          },
          "execution_count": 247
        }
      ]
    },
    {
      "metadata": {
        "id": "A95jHVups18v",
        "colab_type": "code",
        "colab": {
          "base_uri": "https://localhost:8080/",
          "height": 122
        },
        "outputId": "a85f217c-a325-41d9-fe82-95ce53978dcd"
      },
      "cell_type": "code",
      "source": [
        "news_list[2000],news_list[3445],news_list[743], news_list[561], news_list[600]"
      ],
      "execution_count": 248,
      "outputs": [
        {
          "output_type": "execute_result",
          "data": {
            "text/plain": [
              "(TaggedDocument(words=['all', 'india', 'bakchod', 'aib', 'knockout', 'roast', 'has', 'become', 'the', 'most', 'talked', 'about', 'show', 'ever', 'since', 'it', 'was', 'uploaded', 'on', 'the', 'video', 'sharing', 'website', 'youtube', 'the', 'video', 'of', 'the', 'controversial', 'show', 'hosted', 'by', 'karan', 'johar', 'ranveer', 'singh', 'and', 'arjun', 'kapoor', 'was', 'removed', 'from', 'the', 'site', 'on', 'tuesday', 'for', 'its', 'filthy', 'and', 'rude', 'content', 'for', 'the', 'past', 'one', 'week', 'aibroast', 'and', 'have', 'become', 'the', 'popular', 'hashtags', 'on', 'micro', 'blogging', 'site', 'twitter', 'and', 'other', 'social', 'networking', 'sites', 'with', 'many', 'supporting', 'and', 'some', 'opposing', 'the', 'show', 'tagging', 'it', 'as', 'vulgar', 'while', 'deepika', 'padukone', 'alia', 'bhatt', 'sonakshi', 'sinha', 'and', 'many', 'other', 'bollywood', 'celebs', 'who', 'attended', 'the', 'show', 'applauded', 'it', 'kamaal', 'khan', 'pooja', 'missra', 'among', 'others', 'called', 'it', 'as', 'an', 'abusive', 'show', 'check', 'the', 'reactions', 'of', 'the', 'supporters', 'and', 'opposers', 'of', 'aib', 'roast', 'below', 'sonakshi', 'sinha', 'deepika', 'padukone', 'alia', 'bhatt', 'rajkummar', 'rao', 'ram', 'gopal', 'varma', 'arshad', 'warsi', 'twinkle', 'khanna', 'sanjay', 'jha', 'pritish', 'nandy', 'huma', 'qureshi', 'tanuj', 'garg', 'kamaal', 'khan', 'krk', 'pooja', 'missra', 'satyadeep', 'misra', 'aib', 'roast', 'row', 'some', 'celebs', 'support', 'others', 'trash', 'the', 'controversial', 'show', 'reactions', 'anu', 'james'], tags=[2000]),\n",
              " TaggedDocument(words=['varun', 'dhawan', 'and', 'karan', 'johar', 'will', 'reportedly', 'collaborate', 'once', 'again', 'this', 'time', 'for', 'biopic', 'on', 'hockey', 'legend', 'dhyan', 'chand', 'his', 'son', 'ashok', 'dhyanchand', 'had', 'sold', 'the', 'movie', 'rights', 'to', 'producers', 'pooja', 'and', 'aarti', 'shetty', 'four', 'years', 'ago', 'the', 'shetty', 'sisters', 'had', 'apparently', 'discussed', 'the', 'movie', 'with', 'shah', 'rukh', 'khan', 'but', 'nothing', 'happened', 'now', 'report', 'says', 'karan', 'dharma', 'productions', 'has', 'taken', 'the', 'projects', 'from', 'the', 'sisters', 'pooja', 'and', 'aarti', 'sounded', 'karan', 'johar', 'out', 'about', 'the', 'dhyanchand', 'project', 'he', 'loved', 'the', 'idea', 'and', 'agreed', 'to', 'co', 'produce', 'the', 'film', 'source', 'close', 'to', 'dharma', 'told', 'skj', 'bollywood', 'news', 'karan', 'approached', 'ranbir', 'kapoor', 'to', 'play', 'dhyanchand', 'ranbir', 'for', 'reasons', 'best', 'known', 'to', 'him', 'declined', 'the', 'offer', 'karan', 'then', 'took', 'the', 'project', 'to', 'his', 'other', 'favourite', 'varun', 'dhawan', 'who', 'is', 'very', 'very', 'keen', 'on', 'playing', 'the', 'hockey', 'legend', 'he', 'even', 'made', 'his', 'father', 'david', 'dhawan', 'hear', 'the', 'story', 'karan', 'johar', 'then', 'approached', 'fox', 'star', 'studios', 'who', 'are', 'very', 'keen', 'to', 'get', 'on', 'board', 'the', 'source', 'added', 'it', 'will', 'be', 'interesting', 'to', 'see', 'varun', 'in', 'dhyan', 'chand', 'shoes', 'and', 'karan', 'being', 'the', 'producer', 'will', 'be', 'the', 'icing', 'on', 'the', 'cake', 'but', 'there', 'is', 'one', 'obstacle', 'and', 'it', 'is', 'the', 'director', 'of', 'the', 'film', 'skj', 'bollywood', 'news', 'reported', 'that', 'debutant', 'director', 'rohit', 'jaisingh', 'vaid', 'wants', 'to', 'helm', 'the', 'biopic', 'as', 'the', 'shetty', 'sisters', 'bought', 'the', 'rights', 'of', 'the', 'film', 'for', 'him', 'to', 'make', 'it', 'the', 'producers', 'do', 'not', 'want', 'to', 'give', 'the', 'film', 'to', 'debutant', 'and', 'rohit', 'is', 'not', 'in', 'mood', 'to', 'leave', 'the', 'project', 'it', 'was', 'rohit', 'who', 'bought', 'the', 'rights', 'for', 'the', 'biopic', 'on', 'behalf', 'of', 'the', 'shetty', 'sisters', 'the', 'right', 'to', 'direct', 'the', 'film', 'cannot', 'be', 'taken', 'away', 'from', 'him', 'unless', 'rohit', 'voluntarily', 'forfeits', 'it', 'this', 'he', 'is', 'in', 'no', 'mood', 'to', 'do', 'an', 'insider', 'told', 'the', 'web', 'portal', 'rohit', 'vaid', 'rightly', 'feels', 'he', 'has', 'the', 'right', 'to', 'direct', 'the', 'dhyan', 'chand', 'biopic', 'but', 'karan', 'johar', 'and', 'fox', 'star', 'feel', 'rohit', 'inexperience', 'goes', 'against', 'him', 'the', 'insider', 'added', 'varun', 'dhawan', 'to', 'play', 'hockey', 'legend', 'dhyan', 'chand', 'and', 'karan', 'johar', 'to', 'produce', 'the', 'film', 'sushmita', 'sen'], tags=[3445]),\n",
              " TaggedDocument(words=['telugu', 'actor', 'nara', 'rohit', 'known', 'for', 'his', 'experimental', 'films', 'is', 'back', 'with', 'asura', 'asura', 'movie', 'review', 'viewers', 'go', 'gaga', 'over', 'nara', 'rohit', 'performance', 'shekhar', 'hooli'], tags=[743]),\n",
              " TaggedDocument(words=['bollywood', 'actors', 'hrithik', 'roshan', 'and', 'varun', 'dhawan', 'are', 'being', 'considered', 'for', 'telugu', 'director', 'koratala', 'siva', 'blockbuster', 'film', 'srimanthudu', 'siva', 'is', 'set', 'to', 'direct', 'the', 'hindi', 'version', 'of', 'the', 'film', 'and', 'the', 'buzz', 'is', 'that', 'these', 'two', 'actors', 'might', 'star', 'in', 'the', 'film', 'though', 'hrithik', 'name', 'has', 'been', 'making', 'rounds', 'since', 'long', 'varun', 'is', 'also', 'now', 'rumoured', 'to', 'be', 'considered', 'for', 'the', 'role', 'srimanthudu', 'turned', 'out', 'to', 'be', 'superhit', 'film', 'which', 'features', 'mahesh', 'babu', 'and', 'shruti', 'haasan', 'in', 'lead', 'roles', 'earlier', 'there', 'were', 'reports', 'that', 'hrithik', 'was', 'quite', 'happy', 'after', 'watching', 'the', 'film', 'and', 'he', 'wanted', 'bit', 'changes', 'in', 'the', 'climax', 'for', 'the', 'hindi', 'remake', 'the', 'movie', 'srimanthudu', 'was', 'screened', 'for', 'hrithik', 'recently', 'and', 'he', 'liked', 'the', 'plot', 'however', 'he', 'felt', 'that', 'the', 'climax', 'bit', 'needs', 'few', 'changes', 'to', 'suit', 'the', 'hindi', 'audience', 'they', 'are', 'examining', 'his', 'request', 'source', 'told', 'bangalore', 'mirror', 'there', 'were', 'rumours', 'that', 'eros', 'will', 'produce', 'the', 'film', 'with', 'another', 'mumbai', 'based', 'banner', 'on', 'the', 'other', 'hand', 'director', 'siva', 'has', 'got', 'major', 'share', 'of', 'the', 'rights', 'of', 'the', 'film', 'which', 'has', 'done', 'business', 'of', 'rs', 'crore', 'siva', 'director', 'had', 'per', 'cent', 'in', 'the', 'rights', 'eros', 'had', 'per', 'cent', 'and', 'the', 'producers', 'had', 'per', 'cent', 'but', 'now', 'the', 'director', 'has', 'got', 'all', 'the', 'rights', 'of', 'the', 'film', 'and', 'he', 'will', 'be', 'directing', 'the', 'film', 'in', 'hindi', 'also', 'deccan', 'chronicle', 'quoted', 'an', 'insider', 'as', 'saying', 'right', 'now', 'there', 'are', 'three', 'different', 'producers', 'wanting', 'to', 'make', 'the', 'film', 'with', 'hrithik', 'roshan', 'salman', 'khan', 'and', 'varun', 'dhawan', 'respectively', 'apparently', 'david', 'dhawan', 'has', 'also', 'seen', 'the', 'film', 'twice', 'for', 'varun', 'the', 'insider', 'further', 'added', 'currently', 'both', 'the', 'actors', 'hrithik', 'and', 'varun', 'are', 'busy', 'with', 'their', 'respective', 'film', 'projects', 'however', 'when', 'contacted', 'david', 'dhawan', 'told', 'deccan', 'chronicle', 'yes', 'have', 'seen', 'seen', 'the', 'film', 'and', 'loved', 'it', 'mahesh', 'babu', 'is', 'so', 'good', 'in', 'it', 'but', 'just', 'feel', 'that', 'varun', 'is', 'too', 'young', 'to', 'play', 'that', 'role', 'http', 'www', 'ibtimes', 'co', 'in', 'hrithik', 'roshan', 'varun', 'dhawan', 'might', 'star', 'hindi', 'remake', 'mahesh', 'bahus', 'srimanthudu', 'srimanthudu', 'completes', 'days', 'in', 'theatres', 'mahesh', 'babu', 'to', 'give', 'his', 'bicycle', 'to', 'lucky', 'winner', 'hrithik', 'roshan', 'varun', 'dhawan', 'might', 'star', 'in', 'hindi', 'remake', 'of', 'mahesh', 'babu', 'srimanthudu', 'sushmita', 'sen'], tags=[561]),\n",
              " TaggedDocument(words=['dhyan', 'sreenivasan', 'aju', 'varghese', 'neeraj', 'madhav', 'and', 'namitha', 'pramod', 'starrer', 'adi', 'kapyare', 'kootamani', 'adi', 'kapyare', 'kootamani', 'dhyan', 'sreenivasan', 'aju', 'varghese', 'starrer', 'to', 'get', 'sequel', 'soon', 'anu', 'james'], tags=[600]))"
            ]
          },
          "metadata": {
            "tags": []
          },
          "execution_count": 248
        }
      ]
    },
    {
      "metadata": {
        "id": "U8fQeu75W-Zj",
        "colab_type": "text"
      },
      "cell_type": "markdown",
      "source": [
        "# Recommendation by N-nearest users and k-nearest items :\n",
        "* This approach is a combination of content based and collaborative filtering approach.\n",
        "* In this approach, first, the top-N neighbors are found by using the vector representation of the users. \n",
        "* Then, the top-N dissimilar neighbors are found by using the vector representation of the users, considering a certian threshold of dissimilarity.\n",
        "* The top-k items that are most similar to the combination of target user and the neighbors(similar and dissimilar) are found by using the vector representations calculated in the first step. \n",
        "* The collected topk items are recommended to the target user.\n",
        "* The first 7 recommendations are generated from average vector of N-nearest Users.\n",
        "* The last 3 recommendations are generated from average vector of N-dissimilar Users.\n",
        "* Dissimilarity will be between 0-50 , chosen randomly each time."
      ]
    },
    {
      "metadata": {
        "id": "pqk2UYNN7fY1",
        "colab_type": "code",
        "colab": {}
      },
      "cell_type": "code",
      "source": [
        "def N_nearest_users(userId , N , k):\n",
        "\n",
        "\n",
        "  nearest_users = {}\n",
        "  \n",
        "  for i in range(3999):\n",
        "     if (i+1) != userId:\n",
        "      nearest_users[i+1] = user_sim[userId-1][i]\n",
        "    \n",
        "  sorted_nearest_users = sorted(nearest_users.items(), key=lambda x: x[1], reverse = True)\n",
        "  N_sorted_nearest_users = sorted_nearest_users[:N]\n",
        "\n",
        "  avg_nearest_user_vector = uservec_dict[userId]\n",
        "\n",
        "  for i in N_sorted_nearest_users :\n",
        "  \n",
        "    avg_nearest_user_vector +=  uservec_dict[i[0]]\n",
        "\n",
        "  avg_nearest_user_vector /= (N+1)\n",
        "\n",
        "  final_list =  k_nearest_items(avg_nearest_user_vector, k = 0.7*k)    # 7 items based on N-nearest neighbors \n",
        "\n",
        "\n",
        "\n",
        "\n",
        "  threshold = random.randint(1,50)/100\n",
        "  print('Considering {} Dissimilar Users with less than {} % similarity for exploration of user interests beyond personalization'.format(N,int(threshold*100)))\n",
        "\n",
        "  N_dissimilar_users = [i for i in sorted_nearest_users if i[1] < threshold ][:N] \n",
        "\n",
        "  avg_dissimilar_user_vector = uservec_dict[userId]\n",
        "\n",
        "  for i in N_dissimilar_users :\n",
        "  \n",
        "    avg_dissimilar_user_vector +=  uservec_dict[i[0]]\n",
        "  \n",
        "  avg_dissimilar_user_vector /= (N+1) \n",
        "\n",
        "  final_list.append(k_nearest_items(avg_dissimilar_user_vector, k = 0.3*k))  # 3 items based on N-dissimlar neighbors with different threshold everytime generated randomly(<50)\n",
        "#   final_flat_list = [item for sublist in final_list for item in sublist]\n",
        "  return final_list\n",
        "  \n",
        "  "
      ],
      "execution_count": 0,
      "outputs": []
    },
    {
      "metadata": {
        "id": "7FfHRtsviNPR",
        "colab_type": "text"
      },
      "cell_type": "markdown",
      "source": [
        "## Generating 10 Recommendations for UserId 1 , considering 5 nearest and 5 dissimilar users \n",
        "* Note - the last three recommended items show similarity score with the averaged N dissimilar User vector with corresponding news vector. "
      ]
    },
    {
      "metadata": {
        "id": "bVJcy9WtLHor",
        "colab_type": "code",
        "colab": {
          "base_uri": "https://localhost:8080/",
          "height": 170
        },
        "outputId": "060a4410-16db-478c-ace9-e47d9897cf0b"
      },
      "cell_type": "code",
      "source": [
        "N_nearest_users(12,5,10)  "
      ],
      "execution_count": 266,
      "outputs": [
        {
          "output_type": "stream",
          "text": [
            "Considering 5 Dissimilar Users with less than 17 % similarity for exploration of user interests beyond personalization\n"
          ],
          "name": "stdout"
        },
        {
          "output_type": "execute_result",
          "data": {
            "text/plain": [
              "[(1980, 0.89488435),\n",
              " (238, 0.86827755),\n",
              " (229, 0.8417136),\n",
              " (476, 0.83108336),\n",
              " (3562, 0.8218666),\n",
              " (360, 0.8190146),\n",
              " (391, 0.8129686),\n",
              " [(1980, 0.85844755), (229, 0.85293394), (238, 0.85244143)]]"
            ]
          },
          "metadata": {
            "tags": []
          },
          "execution_count": 266
        }
      ]
    },
    {
      "metadata": {
        "id": "r3EhQnEd48yQ",
        "colab_type": "text"
      },
      "cell_type": "markdown",
      "source": [
        "## User-1 has read 3 articles with articleId 1623(16 %) , 3961(30 %) and 2346(8 %)"
      ]
    },
    {
      "metadata": {
        "id": "hoqapRWy7gU6",
        "colab_type": "code",
        "colab": {
          "base_uri": "https://localhost:8080/",
          "height": 88
        },
        "outputId": "174339b5-04ba-4236-d902-0f84f7919410"
      },
      "cell_type": "code",
      "source": [
        "news_list[1623], news_list[3961], news_list[2346]"
      ],
      "execution_count": 231,
      "outputs": [
        {
          "output_type": "execute_result",
          "data": {
            "text/plain": [
              "(TaggedDocument(words=['deepika', 'kumari', 'has', 'been', 'one', 'of', 'the', 'best', 'archers', 'for', 'while', 'and', 'the', 'indian', 'reached', 'another', 'high', 'in', 'her', 'career', 'when', 'she', 'equalled', 'the', 'world', 'record', 'in', 'the', 'recurve', 'event', 'during', 'the', 'ongoing', 'archery', 'world', 'cup', 'in', 'shanghai', 'deepika', 'equalled', 'reigning', 'olympic', 'and', 'world', 'archery', 'champion', 'korea', 'ki', 'bo', 'bae', 'record', 'of', 'points', 'on', 'wednesday', 'deepika', 'showed', 'amazing', 'form', 'in', 'the', 'competition', 'as', 'she', 'shot', 'in', 'the', 'front', 'half', 'while', 'scoring', 'in', 'the', 'second', 'to', 'equal', 'the', 'record', 'there', 'was', 'pressure', 'on', 'deepika', 'with', 'her', 'final', 'six', 'arrows', 'as', 'she', 'was', 'required', 'score', 'of', 'points', 'to', 'break', 'the', 'korean', 'record', 'however', 'she', 'could', 'not', 'get', 'off', 'to', 'great', 'start', 'scoring', 'two', 'nines', 'from', 'the', 'first', 'three', 'which', 'derailed', 'her', 'chances', 'of', 'beating', 'the', 'world', 'record', 'but', 'the', 'former', 'world', 'number', 'one', 'showed', 'her', 'class', 'by', 'holding', 'her', 'nerves', 'to', 'score', 'three', 'in', 'succession', 'and', 'attain', 'points', 'which', 'allowed', 'her', 'to', 'equal', 'the', 'world', 'mark', 'the', 'year', 'old', 'maintained', 'that', 'she', 'did', 'not', 'have', 'the', 'world', 'record', 'on', 'her', 'mind', 'at', 'all', 'the', 'fact', 'that', 'it', 'was', 'record', 'wasn', 'really', 'on', 'my', 'mind', 'just', 'shot', 'don', 'have', 'any', 'expectations', 'for', 'this', 'week', 'just', 'want', 'to', 'give', 'my', 'best', 'but', 'confident', 'about', 'the', 'rest', 'of', 'the', 'year', 'world', 'archery', 'official', 'website', 'quoted', 'deepika', 'as', 'saying', 'deepika', 'is', 'one', 'of', 'the', 'best', 'medal', 'prospects', 'for', 'india', 'in', 'the', 'upcoming', 'rio', 'olympics', 'and', 'this', 'performance', 'will', 'boost', 'her', 'confidence', 'to', 'excel', 'in', 'the', 'quadrennial', 'event', 'deepika', 'kumari', 'world', 'record', 'wasn', 'on', 'my', 'mind', 'just', 'shot', 'ashim', 'sunam'], tags=[1623]),\n",
              " TaggedDocument(words=['falling', 'revenues', 'has', 'forced', 'the', 'railways', 'to', 'cut', 'salaries', 'and', 'operational', 'costs', 'in', 'order', 'to', 'meet', 'its', 'financial', 'requirement', 'currently', 'it', 'is', 'undertaking', 'various', 'measures', 'to', 'increase', 'its', 'resources', 'the', 'finance', 'ministry', 'has', 'said', 'implementation', 'of', 'the', 'seventh', 'pay', 'commission', 'recommendations', 'has', 'reportedly', 'left', 'the', 'railways', 'strained', 'with', 'additional', 'expenditure', 'railway', 'minister', 'suresh', 'prabhu', 'is', 'due', 'to', 'present', 'the', 'rail', 'budget', 'on', 'feb', 'he', 'is', 'expected', 'to', 'propose', 'plan', 'which', 'will', 'cut', 'expenses', 'but', 'at', 'the', 'same', 'time', 'increase', 'non', 'tax', 'receipts', 'press', 'trust', 'of', 'india', 'reports', 'some', 'of', 'the', 'steps', 'taken', 'by', 'railways', 'to', 'reduce', 'its', 'working', 'expenses', 'are', 'rationalisation', 'of', 'staff', 'optimum', 'use', 'of', 'workforce', 'and', 'reducing', 'allowances', 'the', 'aim', 'is', 'to', 'reduce', 'working', 'expense', 'by', 'about', 'percent', 'the', 'total', 'working', 'expenses', 'was', 'rs', 'lakh', 'crore', 'last', 'year', 'sources', 'told', 'the', 'publication', 'the', 'rail', 'budget', 'will', 'have', 'multiple', 'initiatives', 'for', 'making', 'it', 'people', 'friendly', 'and', 'improving', 'its', 'passenger', 'facilities', 'sources', 'said', 'prabhu', 'is', 'keen', 'on', 'generating', 'revenue', 'through', 'non', 'tariff', 'sources', 'such', 'as', 'exporting', 'railway', 'equipment', 'advertising', 'and', 'commercial', 'exploitation', 'of', 'railway', 'land', 're', 'developing', 'stations', 'is', 'an', 'example', 'of', 'commercial', 'exploitation', 'of', 'railway', 'premises', 'the', 'railway', 'budget', 'would', 'also', 'look', 'into', 'increasing', 'investments', 'in', 'the', 'infrastructural', 'development', 'area', 'prabhu', 'is', 'hopeful', 'the', 'next', 'fiscal', 'would', 'witness', 'reduction', 'of', 'energy', 'bill', 'by', 'percent', 'which', 'is', 'rs', 'crore', 'at', 'present', 'pti', 'added', 'the', 'finance', 'ministry', 'had', 'cut', 'the', 'rail', 'budget', 'to', 'rs', 'crore', 'from', 'rs', 'crore', 'in', 'the', 'previous', 'budget', 'lakh', 'crore', 'million', 'crore', 'billion', 'railways', 'to', 'cut', 'operational', 'costs', 'limit', 'working', 'expenses', 'kalyani', 'pandey'], tags=[3961]),\n",
              " TaggedDocument(words=['two', 'university', 'professors', 'one', 'american', 'and', 'an', 'australian', 'national', 'were', 'abducted', 'at', 'gunpoint', 'by', 'five', 'men', 'wearing', 'afghan', 'military', 'uniforms', 'in', 'kabul', 'late', 'on', 'sunday', 'they', 'were', 'waylaid', 'while', 'driving', 'near', 'american', 'university', 'of', 'afghanistan', 'afghan', 'interior', 'ministry', 'spokesperson', 'sediq', 'sediqqi', 'was', 'quoted', 'as', 'saying', 'by', 'associated', 'press', 'they', 'were', 'returning', 'home', 'from', 'the', 'university', 'the', 'washington', 'post', 'quoted', 'police', 'as', 'saying', 'that', 'an', 'afghan', 'colleague', 'and', 'driver', 'were', 'also', 'travelling', 'with', 'them', 'but', 'they', 'were', 'not', 'kidnapped', 'so', 'far', 'no', 'group', 'has', 'demanded', 'ransom', 'or', 'claimed', 'responsibility', 'for', 'the', 'abduction', 'the', 'american', 'university', 'of', 'afghanistan', 'auaf', 'is', 'afghanistan', 'first', 'private', 'not', 'for', 'profit', 'institution', 'of', 'higher', 'education', 'chartered', 'in', 'auaf', 'offers', 'an', 'mba', 'program', 'four', 'undergraduate', 'degree', 'programs', 'and', 'continuing', 'education', 'and', 'professional', 'development', 'training', 'the', 'embassy', 'in', 'kabul', 'released', 'statement', 'confirming', 'the', 'kidnapping', 'but', 'refused', 'to', 'divulge', 'details', 'due', 'to', 'privacy', 'concerns', 'australia', 'department', 'of', 'foreign', 'affairs', 'and', 'trade', 'also', 'released', 'statement', 'confirming', 'the', 'apparent', 'kidnapping', 'of', 'an', 'australian', 'in', 'kabul', 'last', 'thursday', 'foreign', 'tourists', 'including', 'three', 'americans', 'were', 'attacked', 'by', 'the', 'taliban', 'while', 'driving', 'in', 'convoy', 'across', 'rural', 'western', 'afghanistan', 'the', 'washington', 'post', 'reported', 'five', 'of', 'the', 'tourists', 'were', 'injured', 'but', 'all', 'were', 'safely', 'evacuated', 'to', 'herat', 'taliban', 'spokesman', 'had', 'said', 'that', 'they', 'were', 'attacked', 'because', 'they', 'were', 'foreign', 'occupiers', 'seven', 'pakistani', 'civilians', 'were', 'also', 'taken', 'hostage', 'on', 'the', 'same', 'day', 'after', 'their', 'helicopter', 'crash', 'landed', 'at', 'logar', 'province', 'of', 'afghanistan', 'american', 'university', 'of', 'afghanistan', 'professors', 'kidnapped', 'in', 'kabul', 'devyani', 'sultania'], tags=[2346]))"
            ]
          },
          "metadata": {
            "tags": []
          },
          "execution_count": 231
        }
      ]
    },
    {
      "metadata": {
        "id": "bTBEKLgf6QfX",
        "colab_type": "text"
      },
      "cell_type": "markdown",
      "source": [
        "## The Recommendations will keep getting better as more and more click-stream data is generated and the user2vec gets more personalized."
      ]
    },
    {
      "metadata": {
        "id": "RaZl6ZdwxdxS",
        "colab_type": "text"
      },
      "cell_type": "markdown",
      "source": [
        "With more computing power and Better training time, we would have generated doc2vec for upto 300 features and multiple epochs to generate more robust Recommendations."
      ]
    },
    {
      "metadata": {
        "id": "QHnemk40xnQw",
        "colab_type": "code",
        "colab": {}
      },
      "cell_type": "code",
      "source": [
        ""
      ],
      "execution_count": 0,
      "outputs": []
    }
  ]
}